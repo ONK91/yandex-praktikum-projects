{
 "cells": [
  {
   "cell_type": "markdown",
   "metadata": {
    "toc": true
   },
   "source": [
    "<h1>Table of Contents<span class=\"tocSkip\"></span></h1>\n",
    "<div class=\"toc\"><ul class=\"toc-item\"><li><span><a href=\"#Определение-стоимости-автомобилей\" data-toc-modified-id=\"Определение-стоимости-автомобилей-1\">Определение стоимости автомобилей</a></span><ul class=\"toc-item\"><li><span><a href=\"#Инструкция-по-выполнению-проекта\" data-toc-modified-id=\"Инструкция-по-выполнению-проекта-1.1\">Инструкция по выполнению проекта</a></span></li><li><span><a href=\"#Описание-данных\" data-toc-modified-id=\"Описание-данных-1.2\">Описание данных</a></span></li><li><span><a href=\"#Подготовка-данных\" data-toc-modified-id=\"Подготовка-данных-1.3\">Подготовка данных</a></span><ul class=\"toc-item\"><li><span><a href=\"#Загрузка-библиотек-и-настроек\" data-toc-modified-id=\"Загрузка-библиотек-и-настроек-1.3.1\">Загрузка библиотек и настроек</a></span></li><li><span><a href=\"#Загрузка-и-основная-информация-о-данных\" data-toc-modified-id=\"Загрузка-и-основная-информация-о-данных-1.3.2\">Загрузка и основная информация о данных</a></span></li><li><span><a href=\"#Удаление-ненужных-признаков\" data-toc-modified-id=\"Удаление-ненужных-признаков-1.3.3\">Удаление ненужных признаков</a></span></li><li><span><a href=\"#Работа-над-аномальными-значениями\" data-toc-modified-id=\"Работа-над-аномальными-значениями-1.3.4\">Работа над аномальными значениями</a></span><ul class=\"toc-item\"><li><span><a href=\"#Распределение-числовых-признаков-до\" data-toc-modified-id=\"Распределение-числовых-признаков-до-1.3.4.1\">Распределение числовых признаков до</a></span></li><li><span><a href=\"#RegistrationYear\" data-toc-modified-id=\"RegistrationYear-1.3.4.2\">RegistrationYear</a></span></li><li><span><a href=\"#Price\" data-toc-modified-id=\"Price-1.3.4.3\">Price</a></span></li><li><span><a href=\"#Kilometer\" data-toc-modified-id=\"Kilometer-1.3.4.4\">Kilometer</a></span></li><li><span><a href=\"#Power\" data-toc-modified-id=\"Power-1.3.4.5\">Power</a></span></li><li><span><a href=\"#Удаление-выбросов\" data-toc-modified-id=\"Удаление-выбросов-1.3.4.6\">Удаление выбросов</a></span></li><li><span><a href=\"#Распределение-числовых-признаков-после\" data-toc-modified-id=\"Распределение-числовых-признаков-после-1.3.4.7\">Распределение числовых признаков после</a></span></li></ul></li><li><span><a href=\"#Работа-над-пропусками\" data-toc-modified-id=\"Работа-над-пропусками-1.3.5\">Работа над пропусками</a></span><ul class=\"toc-item\"><li><span><a href=\"#NotRepaired\" data-toc-modified-id=\"NotRepaired-1.3.5.1\">NotRepaired</a></span></li><li><span><a href=\"#VehicleType\" data-toc-modified-id=\"VehicleType-1.3.5.2\">VehicleType</a></span></li><li><span><a href=\"#Model\" data-toc-modified-id=\"Model-1.3.5.3\">Model</a></span></li><li><span><a href=\"#FuelType\" data-toc-modified-id=\"FuelType-1.3.5.4\">FuelType</a></span></li><li><span><a href=\"#Удаление-пропусков\" data-toc-modified-id=\"Удаление-пропусков-1.3.5.5\">Удаление пропусков</a></span></li></ul></li><li><span><a href=\"#Анализ-корреляции-признаков\" data-toc-modified-id=\"Анализ-корреляции-признаков-1.3.6\">Анализ корреляции признаков</a></span></li><li><span><a href=\"#Кодирование-признаков\" data-toc-modified-id=\"Кодирование-признаков-1.3.7\">Кодирование признаков</a></span><ul class=\"toc-item\"><li><span><a href=\"#Приведение-данных-к-нужным-типам\" data-toc-modified-id=\"Приведение-данных-к-нужным-типам-1.3.7.1\">Приведение данных к нужным типам</a></span></li><li><span><a href=\"#OHE-кодирование\" data-toc-modified-id=\"OHE-кодирование-1.3.7.2\">OHE кодирование</a></span></li><li><span><a href=\"#OE-кодирование\" data-toc-modified-id=\"OE-кодирование-1.3.7.3\">OE кодирование</a></span></li></ul></li><li><span><a href=\"#Разбитие-данных-на-обучающую-и-валидационную-выборки\" data-toc-modified-id=\"Разбитие-данных-на-обучающую-и-валидационную-выборки-1.3.8\">Разбитие данных на обучающую и валидационную выборки</a></span></li><li><span><a href=\"#Масштабирование-данных-для-линейной-регрессии\" data-toc-modified-id=\"Масштабирование-данных-для-линейной-регрессии-1.3.9\">Масштабирование данных для линейной регрессии</a></span></li></ul></li><li><span><a href=\"#Обучение-моделей\" data-toc-modified-id=\"Обучение-моделей-1.4\">Обучение моделей</a></span><ul class=\"toc-item\"><li><span><a href=\"#Fully-Connected-Feed-Forward-Neural-Network-(NN)\" data-toc-modified-id=\"Fully-Connected-Feed-Forward-Neural-Network-(NN)-1.4.1\">Fully Connected Feed-Forward Neural Network (NN)</a></span></li><li><span><a href=\"#LinearRegression-(LR)\" data-toc-modified-id=\"LinearRegression-(LR)-1.4.2\">LinearRegression (LR)</a></span></li><li><span><a href=\"#GradientBoostingRegressor-(GBR)\" data-toc-modified-id=\"GradientBoostingRegressor-(GBR)-1.4.3\">GradientBoostingRegressor (GBR)</a></span></li><li><span><a href=\"#RandomForestRegressor-(RFR)\" data-toc-modified-id=\"RandomForestRegressor-(RFR)-1.4.4\">RandomForestRegressor (RFR)</a></span></li><li><span><a href=\"#LightGBMRegressor-(LGBMR)\" data-toc-modified-id=\"LightGBMRegressor-(LGBMR)-1.4.5\">LightGBMRegressor (LGBMR)</a></span></li><li><span><a href=\"#CatBoostRegressor-(CBR)\" data-toc-modified-id=\"CatBoostRegressor-(CBR)-1.4.6\">CatBoostRegressor (CBR)</a></span></li><li><span><a href=\"#DummyRegressor-(DummyR)\" data-toc-modified-id=\"DummyRegressor-(DummyR)-1.4.7\">DummyRegressor (DummyR)</a></span></li></ul></li><li><span><a href=\"#Анализ-моделей\" data-toc-modified-id=\"Анализ-моделей-1.5\">Анализ моделей</a></span><ul class=\"toc-item\"><li><span><a href=\"#Анализ-скорости-работы-и-качества-моделей\" data-toc-modified-id=\"Анализ-скорости-работы-и-качества-моделей-1.5.1\">Анализ скорости работы и качества моделей</a></span></li><li><span><a href=\"#Показатели-по-моделям-обучения\" data-toc-modified-id=\"Показатели-по-моделям-обучения-1.5.2\">Показатели по моделям обучения</a></span></li></ul></li><li><span><a href=\"#Вывод\" data-toc-modified-id=\"Вывод-1.6\">Вывод</a></span></li></ul></li></ul></div>"
   ]
  },
  {
   "cell_type": "markdown",
   "metadata": {},
   "source": [
    "# Определение стоимости автомобилей"
   ]
  },
  {
   "cell_type": "markdown",
   "metadata": {},
   "source": [
    "Сервис по продаже автомобилей с пробегом разрабатывает приложение для привлечения новых клиентов. В нём можно быстро узнать рыночную стоимость своего автомобиля. В нашем распоряжении исторические данные: технические характеристики, комплектации и цены автомобилей. Необходимо построить модель для определения стоимости. \n",
    "\n",
    "Заказчику важны:\n",
    "\n",
    "- качество предсказания;\n",
    "- скорость предсказания;\n",
    "- время обучения."
   ]
  },
  {
   "cell_type": "markdown",
   "metadata": {},
   "source": [
    "## Инструкция по выполнению проекта"
   ]
  },
  {
   "cell_type": "markdown",
   "metadata": {},
   "source": [
    "1. Загрузите и подготовьте данные.\n",
    "2. Обучите разные модели. Для каждой попробуйте различные гиперпараметры.\n",
    "3. Проанализируйте скорость работы и качество моделей.\n",
    "\n",
    "Примечания:\n",
    "\n",
    "- Для оценки качества моделей применяйте метрику `RMSE`.\n",
    "- Используейте в том числе библиотеку `LightGBM`."
   ]
  },
  {
   "cell_type": "markdown",
   "metadata": {},
   "source": [
    "## Описание данных"
   ]
  },
  {
   "cell_type": "markdown",
   "metadata": {},
   "source": [
    "Признаки:\n",
    "\n",
    "- `DateCrawled` — дата скачивания анкеты из базы\n",
    "- `VehicleType` — тип автомобильного кузова\n",
    "- `RegistrationYear` — год регистрации автомобиля\n",
    "- `Gearbox` — тип коробки передач\n",
    "- `Power` — мощность (л. с.)\n",
    "- `Model` — модель автомобиля\n",
    "- `Kilometer` — пробег (км)\n",
    "- `RegistrationMonth` — месяц регистрации автомобиля\n",
    "- `FuelType` — тип топлива\n",
    "- `Brand` — марка автомобиля\n",
    "- `NotRepaired` — была машина в ремонте или нет\n",
    "- `DateCreated` — дата создания анкеты\n",
    "- `NumberOfPictures` — количество фотографий автомобиля\n",
    "- `PostalCode` — почтовый индекс владельца анкеты (пользователя)\n",
    "- `LastSeen` — дата последней активности пользователя\n",
    "\n",
    "Целевой признак:\n",
    "\n",
    "- `Price` — цена (евро)"
   ]
  },
  {
   "cell_type": "markdown",
   "metadata": {},
   "source": [
    "## Подготовка данных"
   ]
  },
  {
   "cell_type": "markdown",
   "metadata": {},
   "source": [
    "### Загрузка библиотек и настроек"
   ]
  },
  {
   "cell_type": "code",
   "execution_count": 1,
   "metadata": {},
   "outputs": [],
   "source": [
    "import os\n",
    "import pandas as pd\n",
    "import numpy as np\n",
    "from IPython.core.display import HTML\n",
    "import time\n",
    "import matplotlib.pyplot as plt\n",
    "import seaborn as sns\n",
    "from scipy import stats as st\n",
    "#\n",
    "from sklearn.preprocessing import StandardScaler\n",
    "from sklearn.preprocessing import OrdinalEncoder\n",
    "from sklearn.metrics import mean_squared_error\n",
    "from sklearn.model_selection import train_test_split\n",
    "from sklearn.model_selection import cross_val_score\n",
    "from sklearn.model_selection import cross_validate\n",
    "from sklearn.model_selection import cross_val_predict\n",
    "from sklearn.dummy import DummyRegressor\n",
    "#\n",
    "from lightgbm import LGBMRegressor\n",
    "from catboost import CatBoostRegressor\n",
    "from sklearn.ensemble import GradientBoostingRegressor\n",
    "from sklearn.linear_model import LinearRegression\n",
    "from sklearn.ensemble import RandomForestRegressor\n",
    "from sklearn.neighbors import KNeighborsRegressor"
   ]
  },
  {
   "cell_type": "code",
   "execution_count": 2,
   "metadata": {},
   "outputs": [],
   "source": [
    "from tensorflow.keras.layers import Dense, SimpleRNN\n",
    "from tensorflow.keras.models import Sequential\n",
    "from tensorflow.keras.optimizers import Adam, Adamax, RMSprop, SGD, Ftrl, Nadam, Adadelta, Adagrad\n",
    "from tensorflow.keras.metrics import RootMeanSquaredError\n",
    "from tensorflow.keras import Input"
   ]
  },
  {
   "cell_type": "code",
   "execution_count": 3,
   "metadata": {},
   "outputs": [],
   "source": [
    "import warnings\n",
    "warnings.filterwarnings(\"ignore\")"
   ]
  },
  {
   "cell_type": "code",
   "execution_count": 4,
   "metadata": {},
   "outputs": [],
   "source": [
    "pd.options.mode.chained_assignment = None\n",
    "pd.options.display.float_format = '{:,.2f}'.format\n",
    "pd.options.display.max_columns = None\n",
    "pd.options.display.max_colwidth = 100\n",
    "\n",
    "custom_params = {\n",
    " 'axes.facecolor': '#f5f5f5',\n",
    " 'axes.edgecolor': 'black',\n",
    " 'axes.grid': True,\n",
    " 'axes.axisbelow': 'line',\n",
    " 'axes.labelcolor': 'black',\n",
    " 'figure.facecolor': '#f5f5f5',\n",
    " 'grid.color': 'black',\n",
    " 'grid.linestyle': ':',\n",
    " 'text.color': 'black',\n",
    " 'xtick.color': 'black',\n",
    " 'ytick.color': 'black',\n",
    " 'xtick.direction': 'out',\n",
    " 'ytick.direction': 'out',\n",
    " 'lines.solid_capstyle': 'round',\n",
    " 'image.cmap': 'viridis',\n",
    " 'xtick.bottom': True,\n",
    " 'ytick.left': True,\n",
    " 'axes.spines.left': False,\n",
    " 'axes.spines.bottom': True,\n",
    " 'axes.spines.right': False,\n",
    " 'axes.spines.top': False,\n",
    " 'figure.figsize' : (18,3),\n",
    " 'figure.dpi' : 80,\n",
    " 'figure.titlesize' : 20,\n",
    " 'axes.labelsize' : 16,\n",
    " 'axes.titlesize' : 16,\n",
    " 'xtick.labelsize' : 14,\n",
    " 'ytick.labelsize' : 14,  \n",
    "                }\n",
    "\n",
    "sns.set_theme(style=\"whitegrid\", rc=custom_params, palette=\"twilight\")"
   ]
  },
  {
   "cell_type": "markdown",
   "metadata": {},
   "source": [
    "### Загрузка и основная информация о данных"
   ]
  },
  {
   "cell_type": "code",
   "execution_count": 5,
   "metadata": {},
   "outputs": [],
   "source": [
    "try:\n",
    "    data = pd.read_csv('/datasets/autos.csv')\n",
    "except:\n",
    "    data = pd.read_csv(r'e:\\Documents\\yandex\\9 числ методы\\project\\dataset\\autos.csv')"
   ]
  },
  {
   "cell_type": "code",
   "execution_count": 6,
   "metadata": {},
   "outputs": [],
   "source": [
    "def data_info_preview(data=data):\n",
    "    display(HTML(f'<b> >>> <code>Общая информация о таблице</code>:</b>'))\n",
    "    display(data.info(verbose=False))\n",
    "    display(data.dtypes)\n",
    "    display(HTML(f'<b> >>> <code>Пропущенные значения</code>:</b>'))\n",
    "    display(data.isna().sum())    \n",
    "    display(HTML(f'<b> >>> <code>Размер таблицы</code>:</b>'))\n",
    "    display(data.shape)"
   ]
  },
  {
   "cell_type": "code",
   "execution_count": 7,
   "metadata": {},
   "outputs": [
    {
     "data": {
      "text/html": [
       "<b> >>> <code>Таблица</code>:</b>"
      ],
      "text/plain": [
       "<IPython.core.display.HTML object>"
      ]
     },
     "metadata": {},
     "output_type": "display_data"
    },
    {
     "data": {
      "text/html": [
       "<div>\n",
       "<style scoped>\n",
       "    .dataframe tbody tr th:only-of-type {\n",
       "        vertical-align: middle;\n",
       "    }\n",
       "\n",
       "    .dataframe tbody tr th {\n",
       "        vertical-align: top;\n",
       "    }\n",
       "\n",
       "    .dataframe thead th {\n",
       "        text-align: right;\n",
       "    }\n",
       "</style>\n",
       "<table border=\"1\" class=\"dataframe\">\n",
       "  <thead>\n",
       "    <tr style=\"text-align: right;\">\n",
       "      <th></th>\n",
       "      <th>DateCrawled</th>\n",
       "      <th>Price</th>\n",
       "      <th>VehicleType</th>\n",
       "      <th>RegistrationYear</th>\n",
       "      <th>Gearbox</th>\n",
       "      <th>Power</th>\n",
       "      <th>Model</th>\n",
       "      <th>Kilometer</th>\n",
       "      <th>RegistrationMonth</th>\n",
       "      <th>FuelType</th>\n",
       "      <th>Brand</th>\n",
       "      <th>NotRepaired</th>\n",
       "      <th>DateCreated</th>\n",
       "      <th>NumberOfPictures</th>\n",
       "      <th>PostalCode</th>\n",
       "      <th>LastSeen</th>\n",
       "    </tr>\n",
       "  </thead>\n",
       "  <tbody>\n",
       "    <tr>\n",
       "      <th>0</th>\n",
       "      <td>2016-03-24 11:52:17</td>\n",
       "      <td>480</td>\n",
       "      <td>NaN</td>\n",
       "      <td>1993</td>\n",
       "      <td>manual</td>\n",
       "      <td>0</td>\n",
       "      <td>golf</td>\n",
       "      <td>150000</td>\n",
       "      <td>0</td>\n",
       "      <td>petrol</td>\n",
       "      <td>volkswagen</td>\n",
       "      <td>NaN</td>\n",
       "      <td>2016-03-24 00:00:00</td>\n",
       "      <td>0</td>\n",
       "      <td>70435</td>\n",
       "      <td>2016-04-07 03:16:57</td>\n",
       "    </tr>\n",
       "    <tr>\n",
       "      <th>1</th>\n",
       "      <td>2016-03-24 10:58:45</td>\n",
       "      <td>18300</td>\n",
       "      <td>coupe</td>\n",
       "      <td>2011</td>\n",
       "      <td>manual</td>\n",
       "      <td>190</td>\n",
       "      <td>NaN</td>\n",
       "      <td>125000</td>\n",
       "      <td>5</td>\n",
       "      <td>gasoline</td>\n",
       "      <td>audi</td>\n",
       "      <td>yes</td>\n",
       "      <td>2016-03-24 00:00:00</td>\n",
       "      <td>0</td>\n",
       "      <td>66954</td>\n",
       "      <td>2016-04-07 01:46:50</td>\n",
       "    </tr>\n",
       "    <tr>\n",
       "      <th>2</th>\n",
       "      <td>2016-03-14 12:52:21</td>\n",
       "      <td>9800</td>\n",
       "      <td>suv</td>\n",
       "      <td>2004</td>\n",
       "      <td>auto</td>\n",
       "      <td>163</td>\n",
       "      <td>grand</td>\n",
       "      <td>125000</td>\n",
       "      <td>8</td>\n",
       "      <td>gasoline</td>\n",
       "      <td>jeep</td>\n",
       "      <td>NaN</td>\n",
       "      <td>2016-03-14 00:00:00</td>\n",
       "      <td>0</td>\n",
       "      <td>90480</td>\n",
       "      <td>2016-04-05 12:47:46</td>\n",
       "    </tr>\n",
       "    <tr>\n",
       "      <th>3</th>\n",
       "      <td>2016-03-17 16:54:04</td>\n",
       "      <td>1500</td>\n",
       "      <td>small</td>\n",
       "      <td>2001</td>\n",
       "      <td>manual</td>\n",
       "      <td>75</td>\n",
       "      <td>golf</td>\n",
       "      <td>150000</td>\n",
       "      <td>6</td>\n",
       "      <td>petrol</td>\n",
       "      <td>volkswagen</td>\n",
       "      <td>no</td>\n",
       "      <td>2016-03-17 00:00:00</td>\n",
       "      <td>0</td>\n",
       "      <td>91074</td>\n",
       "      <td>2016-03-17 17:40:17</td>\n",
       "    </tr>\n",
       "    <tr>\n",
       "      <th>4</th>\n",
       "      <td>2016-03-31 17:25:20</td>\n",
       "      <td>3600</td>\n",
       "      <td>small</td>\n",
       "      <td>2008</td>\n",
       "      <td>manual</td>\n",
       "      <td>69</td>\n",
       "      <td>fabia</td>\n",
       "      <td>90000</td>\n",
       "      <td>7</td>\n",
       "      <td>gasoline</td>\n",
       "      <td>skoda</td>\n",
       "      <td>no</td>\n",
       "      <td>2016-03-31 00:00:00</td>\n",
       "      <td>0</td>\n",
       "      <td>60437</td>\n",
       "      <td>2016-04-06 10:17:21</td>\n",
       "    </tr>\n",
       "    <tr>\n",
       "      <th>...</th>\n",
       "      <td>...</td>\n",
       "      <td>...</td>\n",
       "      <td>...</td>\n",
       "      <td>...</td>\n",
       "      <td>...</td>\n",
       "      <td>...</td>\n",
       "      <td>...</td>\n",
       "      <td>...</td>\n",
       "      <td>...</td>\n",
       "      <td>...</td>\n",
       "      <td>...</td>\n",
       "      <td>...</td>\n",
       "      <td>...</td>\n",
       "      <td>...</td>\n",
       "      <td>...</td>\n",
       "      <td>...</td>\n",
       "    </tr>\n",
       "    <tr>\n",
       "      <th>354364</th>\n",
       "      <td>2016-03-21 09:50:58</td>\n",
       "      <td>0</td>\n",
       "      <td>NaN</td>\n",
       "      <td>2005</td>\n",
       "      <td>manual</td>\n",
       "      <td>0</td>\n",
       "      <td>colt</td>\n",
       "      <td>150000</td>\n",
       "      <td>7</td>\n",
       "      <td>petrol</td>\n",
       "      <td>mitsubishi</td>\n",
       "      <td>yes</td>\n",
       "      <td>2016-03-21 00:00:00</td>\n",
       "      <td>0</td>\n",
       "      <td>2694</td>\n",
       "      <td>2016-03-21 10:42:49</td>\n",
       "    </tr>\n",
       "    <tr>\n",
       "      <th>354365</th>\n",
       "      <td>2016-03-14 17:48:27</td>\n",
       "      <td>2200</td>\n",
       "      <td>NaN</td>\n",
       "      <td>2005</td>\n",
       "      <td>NaN</td>\n",
       "      <td>0</td>\n",
       "      <td>NaN</td>\n",
       "      <td>20000</td>\n",
       "      <td>1</td>\n",
       "      <td>NaN</td>\n",
       "      <td>sonstige_autos</td>\n",
       "      <td>NaN</td>\n",
       "      <td>2016-03-14 00:00:00</td>\n",
       "      <td>0</td>\n",
       "      <td>39576</td>\n",
       "      <td>2016-04-06 00:46:52</td>\n",
       "    </tr>\n",
       "    <tr>\n",
       "      <th>354366</th>\n",
       "      <td>2016-03-05 19:56:21</td>\n",
       "      <td>1199</td>\n",
       "      <td>convertible</td>\n",
       "      <td>2000</td>\n",
       "      <td>auto</td>\n",
       "      <td>101</td>\n",
       "      <td>fortwo</td>\n",
       "      <td>125000</td>\n",
       "      <td>3</td>\n",
       "      <td>petrol</td>\n",
       "      <td>smart</td>\n",
       "      <td>no</td>\n",
       "      <td>2016-03-05 00:00:00</td>\n",
       "      <td>0</td>\n",
       "      <td>26135</td>\n",
       "      <td>2016-03-11 18:17:12</td>\n",
       "    </tr>\n",
       "    <tr>\n",
       "      <th>354367</th>\n",
       "      <td>2016-03-19 18:57:12</td>\n",
       "      <td>9200</td>\n",
       "      <td>bus</td>\n",
       "      <td>1996</td>\n",
       "      <td>manual</td>\n",
       "      <td>102</td>\n",
       "      <td>transporter</td>\n",
       "      <td>150000</td>\n",
       "      <td>3</td>\n",
       "      <td>gasoline</td>\n",
       "      <td>volkswagen</td>\n",
       "      <td>no</td>\n",
       "      <td>2016-03-19 00:00:00</td>\n",
       "      <td>0</td>\n",
       "      <td>87439</td>\n",
       "      <td>2016-04-07 07:15:26</td>\n",
       "    </tr>\n",
       "    <tr>\n",
       "      <th>354368</th>\n",
       "      <td>2016-03-20 19:41:08</td>\n",
       "      <td>3400</td>\n",
       "      <td>wagon</td>\n",
       "      <td>2002</td>\n",
       "      <td>manual</td>\n",
       "      <td>100</td>\n",
       "      <td>golf</td>\n",
       "      <td>150000</td>\n",
       "      <td>6</td>\n",
       "      <td>gasoline</td>\n",
       "      <td>volkswagen</td>\n",
       "      <td>NaN</td>\n",
       "      <td>2016-03-20 00:00:00</td>\n",
       "      <td>0</td>\n",
       "      <td>40764</td>\n",
       "      <td>2016-03-24 12:45:21</td>\n",
       "    </tr>\n",
       "  </tbody>\n",
       "</table>\n",
       "<p>354369 rows × 16 columns</p>\n",
       "</div>"
      ],
      "text/plain": [
       "                DateCrawled  Price  VehicleType  RegistrationYear Gearbox  \\\n",
       "0       2016-03-24 11:52:17    480          NaN              1993  manual   \n",
       "1       2016-03-24 10:58:45  18300        coupe              2011  manual   \n",
       "2       2016-03-14 12:52:21   9800          suv              2004    auto   \n",
       "3       2016-03-17 16:54:04   1500        small              2001  manual   \n",
       "4       2016-03-31 17:25:20   3600        small              2008  manual   \n",
       "...                     ...    ...          ...               ...     ...   \n",
       "354364  2016-03-21 09:50:58      0          NaN              2005  manual   \n",
       "354365  2016-03-14 17:48:27   2200          NaN              2005     NaN   \n",
       "354366  2016-03-05 19:56:21   1199  convertible              2000    auto   \n",
       "354367  2016-03-19 18:57:12   9200          bus              1996  manual   \n",
       "354368  2016-03-20 19:41:08   3400        wagon              2002  manual   \n",
       "\n",
       "        Power        Model  Kilometer  RegistrationMonth  FuelType  \\\n",
       "0           0         golf     150000                  0    petrol   \n",
       "1         190          NaN     125000                  5  gasoline   \n",
       "2         163        grand     125000                  8  gasoline   \n",
       "3          75         golf     150000                  6    petrol   \n",
       "4          69        fabia      90000                  7  gasoline   \n",
       "...       ...          ...        ...                ...       ...   \n",
       "354364      0         colt     150000                  7    petrol   \n",
       "354365      0          NaN      20000                  1       NaN   \n",
       "354366    101       fortwo     125000                  3    petrol   \n",
       "354367    102  transporter     150000                  3  gasoline   \n",
       "354368    100         golf     150000                  6  gasoline   \n",
       "\n",
       "                 Brand NotRepaired          DateCreated  NumberOfPictures  \\\n",
       "0           volkswagen         NaN  2016-03-24 00:00:00                 0   \n",
       "1                 audi         yes  2016-03-24 00:00:00                 0   \n",
       "2                 jeep         NaN  2016-03-14 00:00:00                 0   \n",
       "3           volkswagen          no  2016-03-17 00:00:00                 0   \n",
       "4                skoda          no  2016-03-31 00:00:00                 0   \n",
       "...                ...         ...                  ...               ...   \n",
       "354364      mitsubishi         yes  2016-03-21 00:00:00                 0   \n",
       "354365  sonstige_autos         NaN  2016-03-14 00:00:00                 0   \n",
       "354366           smart          no  2016-03-05 00:00:00                 0   \n",
       "354367      volkswagen          no  2016-03-19 00:00:00                 0   \n",
       "354368      volkswagen         NaN  2016-03-20 00:00:00                 0   \n",
       "\n",
       "        PostalCode             LastSeen  \n",
       "0            70435  2016-04-07 03:16:57  \n",
       "1            66954  2016-04-07 01:46:50  \n",
       "2            90480  2016-04-05 12:47:46  \n",
       "3            91074  2016-03-17 17:40:17  \n",
       "4            60437  2016-04-06 10:17:21  \n",
       "...            ...                  ...  \n",
       "354364        2694  2016-03-21 10:42:49  \n",
       "354365       39576  2016-04-06 00:46:52  \n",
       "354366       26135  2016-03-11 18:17:12  \n",
       "354367       87439  2016-04-07 07:15:26  \n",
       "354368       40764  2016-03-24 12:45:21  \n",
       "\n",
       "[354369 rows x 16 columns]"
      ]
     },
     "metadata": {},
     "output_type": "display_data"
    }
   ],
   "source": [
    "display(HTML(f'<b> >>> <code>Таблица</code>:</b>'))\n",
    "display(data)"
   ]
  },
  {
   "cell_type": "code",
   "execution_count": 8,
   "metadata": {},
   "outputs": [
    {
     "data": {
      "text/html": [
       "<b> >>> <code>Общая информация о таблице</code>:</b>"
      ],
      "text/plain": [
       "<IPython.core.display.HTML object>"
      ]
     },
     "metadata": {},
     "output_type": "display_data"
    },
    {
     "name": "stdout",
     "output_type": "stream",
     "text": [
      "<class 'pandas.core.frame.DataFrame'>\n",
      "RangeIndex: 354369 entries, 0 to 354368\n",
      "Columns: 16 entries, DateCrawled to LastSeen\n",
      "dtypes: int64(7), object(9)\n",
      "memory usage: 43.3+ MB\n"
     ]
    },
    {
     "data": {
      "text/plain": [
       "None"
      ]
     },
     "metadata": {},
     "output_type": "display_data"
    },
    {
     "data": {
      "text/plain": [
       "DateCrawled          object\n",
       "Price                 int64\n",
       "VehicleType          object\n",
       "RegistrationYear      int64\n",
       "Gearbox              object\n",
       "Power                 int64\n",
       "Model                object\n",
       "Kilometer             int64\n",
       "RegistrationMonth     int64\n",
       "FuelType             object\n",
       "Brand                object\n",
       "NotRepaired          object\n",
       "DateCreated          object\n",
       "NumberOfPictures      int64\n",
       "PostalCode            int64\n",
       "LastSeen             object\n",
       "dtype: object"
      ]
     },
     "metadata": {},
     "output_type": "display_data"
    },
    {
     "data": {
      "text/html": [
       "<b> >>> <code>Пропущенные значения</code>:</b>"
      ],
      "text/plain": [
       "<IPython.core.display.HTML object>"
      ]
     },
     "metadata": {},
     "output_type": "display_data"
    },
    {
     "data": {
      "text/plain": [
       "DateCrawled              0\n",
       "Price                    0\n",
       "VehicleType          37490\n",
       "RegistrationYear         0\n",
       "Gearbox              19833\n",
       "Power                    0\n",
       "Model                19705\n",
       "Kilometer                0\n",
       "RegistrationMonth        0\n",
       "FuelType             32895\n",
       "Brand                    0\n",
       "NotRepaired          71154\n",
       "DateCreated              0\n",
       "NumberOfPictures         0\n",
       "PostalCode               0\n",
       "LastSeen                 0\n",
       "dtype: int64"
      ]
     },
     "metadata": {},
     "output_type": "display_data"
    },
    {
     "data": {
      "text/html": [
       "<b> >>> <code>Размер таблицы</code>:</b>"
      ],
      "text/plain": [
       "<IPython.core.display.HTML object>"
      ]
     },
     "metadata": {},
     "output_type": "display_data"
    },
    {
     "data": {
      "text/plain": [
       "(354369, 16)"
      ]
     },
     "metadata": {},
     "output_type": "display_data"
    }
   ],
   "source": [
    "data_info_preview(data)"
   ]
  },
  {
   "cell_type": "code",
   "execution_count": 9,
   "metadata": {
    "scrolled": true
   },
   "outputs": [
    {
     "data": {
      "text/html": [
       "<b> >>> <code>Общая информация по числовым переменным</code>:</b>"
      ],
      "text/plain": [
       "<IPython.core.display.HTML object>"
      ]
     },
     "metadata": {},
     "output_type": "display_data"
    },
    {
     "data": {
      "text/html": [
       "<div>\n",
       "<style scoped>\n",
       "    .dataframe tbody tr th:only-of-type {\n",
       "        vertical-align: middle;\n",
       "    }\n",
       "\n",
       "    .dataframe tbody tr th {\n",
       "        vertical-align: top;\n",
       "    }\n",
       "\n",
       "    .dataframe thead th {\n",
       "        text-align: right;\n",
       "    }\n",
       "</style>\n",
       "<table border=\"1\" class=\"dataframe\">\n",
       "  <thead>\n",
       "    <tr style=\"text-align: right;\">\n",
       "      <th></th>\n",
       "      <th>Price</th>\n",
       "      <th>RegistrationYear</th>\n",
       "      <th>Power</th>\n",
       "      <th>Kilometer</th>\n",
       "      <th>RegistrationMonth</th>\n",
       "      <th>NumberOfPictures</th>\n",
       "      <th>PostalCode</th>\n",
       "    </tr>\n",
       "  </thead>\n",
       "  <tbody>\n",
       "    <tr>\n",
       "      <th>count</th>\n",
       "      <td>354,369.00</td>\n",
       "      <td>354,369.00</td>\n",
       "      <td>354,369.00</td>\n",
       "      <td>354,369.00</td>\n",
       "      <td>354,369.00</td>\n",
       "      <td>354,369.00</td>\n",
       "      <td>354,369.00</td>\n",
       "    </tr>\n",
       "    <tr>\n",
       "      <th>mean</th>\n",
       "      <td>4,416.66</td>\n",
       "      <td>2,004.23</td>\n",
       "      <td>110.09</td>\n",
       "      <td>128,211.17</td>\n",
       "      <td>5.71</td>\n",
       "      <td>0.00</td>\n",
       "      <td>50,508.69</td>\n",
       "    </tr>\n",
       "    <tr>\n",
       "      <th>std</th>\n",
       "      <td>4,514.16</td>\n",
       "      <td>90.23</td>\n",
       "      <td>189.85</td>\n",
       "      <td>37,905.34</td>\n",
       "      <td>3.73</td>\n",
       "      <td>0.00</td>\n",
       "      <td>25,783.10</td>\n",
       "    </tr>\n",
       "    <tr>\n",
       "      <th>min</th>\n",
       "      <td>0.00</td>\n",
       "      <td>1,000.00</td>\n",
       "      <td>0.00</td>\n",
       "      <td>5,000.00</td>\n",
       "      <td>0.00</td>\n",
       "      <td>0.00</td>\n",
       "      <td>1,067.00</td>\n",
       "    </tr>\n",
       "    <tr>\n",
       "      <th>25%</th>\n",
       "      <td>1,050.00</td>\n",
       "      <td>1,999.00</td>\n",
       "      <td>69.00</td>\n",
       "      <td>125,000.00</td>\n",
       "      <td>3.00</td>\n",
       "      <td>0.00</td>\n",
       "      <td>30,165.00</td>\n",
       "    </tr>\n",
       "    <tr>\n",
       "      <th>50%</th>\n",
       "      <td>2,700.00</td>\n",
       "      <td>2,003.00</td>\n",
       "      <td>105.00</td>\n",
       "      <td>150,000.00</td>\n",
       "      <td>6.00</td>\n",
       "      <td>0.00</td>\n",
       "      <td>49,413.00</td>\n",
       "    </tr>\n",
       "    <tr>\n",
       "      <th>75%</th>\n",
       "      <td>6,400.00</td>\n",
       "      <td>2,008.00</td>\n",
       "      <td>143.00</td>\n",
       "      <td>150,000.00</td>\n",
       "      <td>9.00</td>\n",
       "      <td>0.00</td>\n",
       "      <td>71,083.00</td>\n",
       "    </tr>\n",
       "    <tr>\n",
       "      <th>max</th>\n",
       "      <td>20,000.00</td>\n",
       "      <td>9,999.00</td>\n",
       "      <td>20,000.00</td>\n",
       "      <td>150,000.00</td>\n",
       "      <td>12.00</td>\n",
       "      <td>0.00</td>\n",
       "      <td>99,998.00</td>\n",
       "    </tr>\n",
       "  </tbody>\n",
       "</table>\n",
       "</div>"
      ],
      "text/plain": [
       "           Price  RegistrationYear      Power  Kilometer  RegistrationMonth  \\\n",
       "count 354,369.00        354,369.00 354,369.00 354,369.00         354,369.00   \n",
       "mean    4,416.66          2,004.23     110.09 128,211.17               5.71   \n",
       "std     4,514.16             90.23     189.85  37,905.34               3.73   \n",
       "min         0.00          1,000.00       0.00   5,000.00               0.00   \n",
       "25%     1,050.00          1,999.00      69.00 125,000.00               3.00   \n",
       "50%     2,700.00          2,003.00     105.00 150,000.00               6.00   \n",
       "75%     6,400.00          2,008.00     143.00 150,000.00               9.00   \n",
       "max    20,000.00          9,999.00  20,000.00 150,000.00              12.00   \n",
       "\n",
       "       NumberOfPictures  PostalCode  \n",
       "count        354,369.00  354,369.00  \n",
       "mean               0.00   50,508.69  \n",
       "std                0.00   25,783.10  \n",
       "min                0.00    1,067.00  \n",
       "25%                0.00   30,165.00  \n",
       "50%                0.00   49,413.00  \n",
       "75%                0.00   71,083.00  \n",
       "max                0.00   99,998.00  "
      ]
     },
     "metadata": {},
     "output_type": "display_data"
    }
   ],
   "source": [
    "display(HTML(f'<b> >>> <code>Общая информация по числовым переменным</code>:</b>'))\n",
    "display(data.describe())"
   ]
  },
  {
   "cell_type": "markdown",
   "metadata": {},
   "source": [
    "### Удаление ненужных признаков"
   ]
  },
  {
   "cell_type": "code",
   "execution_count": 10,
   "metadata": {},
   "outputs": [],
   "source": [
    "drop_columns = ['DateCrawled','DateCreated','NumberOfPictures','PostalCode','LastSeen','RegistrationMonth']\n",
    "#need_col = list(set(data.columns) - set(drop_columns))\n",
    "need_col = data.columns.drop(drop_columns)\n",
    "data = data[need_col]"
   ]
  },
  {
   "cell_type": "code",
   "execution_count": 11,
   "metadata": {},
   "outputs": [
    {
     "data": {
      "text/html": [
       "<b> >>> <code>Общая информация о таблице</code>:</b>"
      ],
      "text/plain": [
       "<IPython.core.display.HTML object>"
      ]
     },
     "metadata": {},
     "output_type": "display_data"
    },
    {
     "name": "stdout",
     "output_type": "stream",
     "text": [
      "<class 'pandas.core.frame.DataFrame'>\n",
      "RangeIndex: 354369 entries, 0 to 354368\n",
      "Columns: 10 entries, Price to NotRepaired\n",
      "dtypes: int64(4), object(6)\n",
      "memory usage: 27.0+ MB\n"
     ]
    },
    {
     "data": {
      "text/plain": [
       "None"
      ]
     },
     "metadata": {},
     "output_type": "display_data"
    },
    {
     "data": {
      "text/plain": [
       "Price                int64\n",
       "VehicleType         object\n",
       "RegistrationYear     int64\n",
       "Gearbox             object\n",
       "Power                int64\n",
       "Model               object\n",
       "Kilometer            int64\n",
       "FuelType            object\n",
       "Brand               object\n",
       "NotRepaired         object\n",
       "dtype: object"
      ]
     },
     "metadata": {},
     "output_type": "display_data"
    },
    {
     "data": {
      "text/html": [
       "<b> >>> <code>Пропущенные значения</code>:</b>"
      ],
      "text/plain": [
       "<IPython.core.display.HTML object>"
      ]
     },
     "metadata": {},
     "output_type": "display_data"
    },
    {
     "data": {
      "text/plain": [
       "Price                   0\n",
       "VehicleType         37490\n",
       "RegistrationYear        0\n",
       "Gearbox             19833\n",
       "Power                   0\n",
       "Model               19705\n",
       "Kilometer               0\n",
       "FuelType            32895\n",
       "Brand                   0\n",
       "NotRepaired         71154\n",
       "dtype: int64"
      ]
     },
     "metadata": {},
     "output_type": "display_data"
    },
    {
     "data": {
      "text/html": [
       "<b> >>> <code>Размер таблицы</code>:</b>"
      ],
      "text/plain": [
       "<IPython.core.display.HTML object>"
      ]
     },
     "metadata": {},
     "output_type": "display_data"
    },
    {
     "data": {
      "text/plain": [
       "(354369, 10)"
      ]
     },
     "metadata": {},
     "output_type": "display_data"
    }
   ],
   "source": [
    "data_info_preview(data)"
   ]
  },
  {
   "cell_type": "markdown",
   "metadata": {},
   "source": [
    "Выделим названия оставшихся признаков в отдельные списки:\n",
    "\n",
    "- `numeric_columns` - числовые признаки\n",
    "- `category_columns` - категориальные признаки\n",
    "- `train_numeric_columns` - числовые признаки без целевого"
   ]
  },
  {
   "cell_type": "code",
   "execution_count": 12,
   "metadata": {},
   "outputs": [],
   "source": [
    "numeric_columns = list(data.select_dtypes(include=np.number).columns)\n",
    "category_columns = list(set(data.columns) - set(numeric_columns))\n",
    "train_numeric_columns = list(set(numeric_columns)-{'Price'})"
   ]
  },
  {
   "cell_type": "markdown",
   "metadata": {},
   "source": [
    "### Работа над аномальными значениями"
   ]
  },
  {
   "cell_type": "markdown",
   "metadata": {},
   "source": [
    "#### Распределение числовых признаков до"
   ]
  },
  {
   "cell_type": "code",
   "execution_count": 13,
   "metadata": {},
   "outputs": [],
   "source": [
    "def drop_outliers(series, n_of_iqr=1.5):\n",
    "    q75, q25 = np.nanpercentile(series,(75,25))\n",
    "    iqr = q75 - q25\n",
    "\n",
    "    max_value = q75 + (n_of_iqr * iqr)\n",
    "    min_value = q25 - (n_of_iqr * iqr)\n",
    "\n",
    "    series.loc[series < min_value] = np.nan\n",
    "    series.loc[series > max_value] = np.nan"
   ]
  },
  {
   "cell_type": "code",
   "execution_count": 14,
   "metadata": {},
   "outputs": [],
   "source": [
    "def boxplot_preview(columns=numeric_columns, nrows=1, ncols=4, trim=True):\n",
    "    fig = plt.figure()\n",
    "    fig.suptitle('Распределение числовых переменных'.upper(), position=(0.5,1), weight='demi')\n",
    "    for i, column in enumerate(columns, start=1):\n",
    "        plt.subplot(nrows,ncols,i)\n",
    "        sns.boxplot(x=column, data=data, width=0.6)\n",
    "        sns.despine(top=True, right=True, left=True, bottom=False, trim=trim)\n",
    "        plt.ylabel('')\n",
    "        plt.xlabel(column, weight='semibold', va='top')\n",
    "        plt.tick_params(direction='in', length=0, pad=3)\n",
    "    plt.show()"
   ]
  },
  {
   "cell_type": "code",
   "execution_count": 15,
   "metadata": {},
   "outputs": [
    {
     "data": {
      "image/png": "[encoded data removed]",
      "text/plain": [
       "<Figure size 1440x240 with 4 Axes>"
      ]
     },
     "metadata": {},
     "output_type": "display_data"
    }
   ],
   "source": [
    "boxplot_preview(numeric_columns)"
   ]
  },
  {
   "cell_type": "markdown",
   "metadata": {},
   "source": [
    "#### RegistrationYear"
   ]
  },
  {
   "cell_type": "code",
   "execution_count": 16,
   "metadata": {},
   "outputs": [],
   "source": [
    "def box_ploting(series, trim=True, width=0.6):\n",
    "    sns.boxplot(series, width=width)\n",
    "    sns.despine(top=True, right=True, left=True, bottom=True, trim=trim)\n",
    "    plt.suptitle('Распределение значений переменной'.upper(), position=(0.5,0.98), weight='demi')\n",
    "    plt.xlabel(series.name, weight='semibold', va='top')\n",
    "    plt.tick_params(direction='in', length=0, pad=3)"
   ]
  },
  {
   "cell_type": "code",
   "execution_count": 17,
   "metadata": {},
   "outputs": [
    {
     "data": {
      "image/png": "[encoded data removed]",
      "text/plain": [
       "<Figure size 1440x240 with 1 Axes>"
      ]
     },
     "metadata": {},
     "output_type": "display_data"
    }
   ],
   "source": [
    "box_ploting(data['RegistrationYear'])\n",
    "plt.xlim(1900,2021)\n",
    "plt.xticks(list(range(1900,2021,5)))\n",
    "plt.show()"
   ]
  },
  {
   "cell_type": "code",
   "execution_count": 18,
   "metadata": {},
   "outputs": [],
   "source": [
    "data = data.mask(data['RegistrationYear'] > 2021)\n",
    "data = data.mask(data['RegistrationYear'] < 1940)"
   ]
  },
  {
   "cell_type": "markdown",
   "metadata": {},
   "source": [
    "#### Price"
   ]
  },
  {
   "cell_type": "code",
   "execution_count": 19,
   "metadata": {},
   "outputs": [],
   "source": [
    "def hist_ploting(series, trim=True, bins=50):\n",
    "    fig = plt.figure(figsize=(18,4))\n",
    "    fig.suptitle('Распределение значений переменной'.upper(), position=(0.5,0.98), weight='demi')\n",
    "    sns.histplot(series, stat='density', kde=True, bins=bins)\n",
    "    sns.despine(top=True, right=True, left=True, bottom=False, trim=trim)\n",
    "    plt.xlabel(series.name, weight='semibold', va='top')\n",
    "    plt.ylabel('')\n",
    "    plt.yticks([])\n",
    "    plt.tick_params(direction='in', length=0, pad=3)"
   ]
  },
  {
   "cell_type": "code",
   "execution_count": 20,
   "metadata": {},
   "outputs": [
    {
     "data": {
      "image/png": "[encoded data removed]",
      "text/plain": [
       "<Figure size 1440x320 with 1 Axes>"
      ]
     },
     "metadata": {},
     "output_type": "display_data"
    }
   ],
   "source": [
    "hist_ploting(data['Price'])\n",
    "plt.xticks(list(range(0,20001,1000)))\n",
    "plt.show()"
   ]
  },
  {
   "cell_type": "code",
   "execution_count": 21,
   "metadata": {},
   "outputs": [
    {
     "data": {
      "image/png": "[encoded data removed]",
      "text/plain": [
       "<Figure size 1440x320 with 1 Axes>"
      ]
     },
     "metadata": {},
     "output_type": "display_data"
    }
   ],
   "source": [
    "hist_ploting(data.query('Price < 500')['Price'], bins=25)\n",
    "plt.xticks(list(range(0,501,20)))\n",
    "plt.show()"
   ]
  },
  {
   "cell_type": "code",
   "execution_count": 22,
   "metadata": {},
   "outputs": [],
   "source": [
    "data = data.mask(data['Price'] < 20)"
   ]
  },
  {
   "cell_type": "markdown",
   "metadata": {},
   "source": [
    "#### Kilometer"
   ]
  },
  {
   "cell_type": "code",
   "execution_count": 23,
   "metadata": {},
   "outputs": [
    {
     "data": {
      "image/png": "[encoded data removed]",
      "text/plain": [
       "<Figure size 1440x320 with 1 Axes>"
      ]
     },
     "metadata": {},
     "output_type": "display_data"
    }
   ],
   "source": [
    "hist_ploting(data['Kilometer'], trim=False, bins=20)\n",
    "plt.show()"
   ]
  },
  {
   "cell_type": "code",
   "execution_count": 24,
   "metadata": {},
   "outputs": [
    {
     "data": {
      "text/html": [
       "<div>\n",
       "<style scoped>\n",
       "    .dataframe tbody tr th:only-of-type {\n",
       "        vertical-align: middle;\n",
       "    }\n",
       "\n",
       "    .dataframe tbody tr th {\n",
       "        vertical-align: top;\n",
       "    }\n",
       "\n",
       "    .dataframe thead th {\n",
       "        text-align: right;\n",
       "    }\n",
       "</style>\n",
       "<table border=\"1\" class=\"dataframe\">\n",
       "  <thead>\n",
       "    <tr style=\"text-align: right;\">\n",
       "      <th></th>\n",
       "      <th>Kilometer</th>\n",
       "    </tr>\n",
       "  </thead>\n",
       "  <tbody>\n",
       "    <tr>\n",
       "      <th>150,000.00</th>\n",
       "      <td>229623</td>\n",
       "    </tr>\n",
       "    <tr>\n",
       "      <th>125,000.00</th>\n",
       "      <td>35693</td>\n",
       "    </tr>\n",
       "    <tr>\n",
       "      <th>100,000.00</th>\n",
       "      <td>14379</td>\n",
       "    </tr>\n",
       "    <tr>\n",
       "      <th>90,000.00</th>\n",
       "      <td>11376</td>\n",
       "    </tr>\n",
       "    <tr>\n",
       "      <th>80,000.00</th>\n",
       "      <td>9881</td>\n",
       "    </tr>\n",
       "    <tr>\n",
       "      <th>70,000.00</th>\n",
       "      <td>8478</td>\n",
       "    </tr>\n",
       "    <tr>\n",
       "      <th>60,000.00</th>\n",
       "      <td>7358</td>\n",
       "    </tr>\n",
       "    <tr>\n",
       "      <th>50,000.00</th>\n",
       "      <td>6144</td>\n",
       "    </tr>\n",
       "    <tr>\n",
       "      <th>5,000.00</th>\n",
       "      <td>4979</td>\n",
       "    </tr>\n",
       "    <tr>\n",
       "      <th>40,000.00</th>\n",
       "      <td>4851</td>\n",
       "    </tr>\n",
       "    <tr>\n",
       "      <th>30,000.00</th>\n",
       "      <td>4317</td>\n",
       "    </tr>\n",
       "    <tr>\n",
       "      <th>20,000.00</th>\n",
       "      <td>3818</td>\n",
       "    </tr>\n",
       "    <tr>\n",
       "      <th>10,000.00</th>\n",
       "      <td>1075</td>\n",
       "    </tr>\n",
       "  </tbody>\n",
       "</table>\n",
       "</div>"
      ],
      "text/plain": [
       "            Kilometer\n",
       "150,000.00     229623\n",
       "125,000.00      35693\n",
       "100,000.00      14379\n",
       "90,000.00       11376\n",
       "80,000.00        9881\n",
       "70,000.00        8478\n",
       "60,000.00        7358\n",
       "50,000.00        6144\n",
       "5,000.00         4979\n",
       "40,000.00        4851\n",
       "30,000.00        4317\n",
       "20,000.00        3818\n",
       "10,000.00        1075"
      ]
     },
     "execution_count": 24,
     "metadata": {},
     "output_type": "execute_result"
    }
   ],
   "source": [
    "data['Kilometer'].value_counts().to_frame()"
   ]
  },
  {
   "cell_type": "markdown",
   "metadata": {},
   "source": [
    "#### Power"
   ]
  },
  {
   "cell_type": "code",
   "execution_count": 25,
   "metadata": {},
   "outputs": [
    {
     "data": {
      "image/png": "[encoded data removed]",
      "text/plain": [
       "<Figure size 1440x240 with 1 Axes>"
      ]
     },
     "metadata": {},
     "output_type": "display_data"
    }
   ],
   "source": [
    "box_ploting(data['Power'])\n",
    "plt.xlim(0,1000)\n",
    "plt.xticks(list(range(0,1001,50)))\n",
    "plt.show()"
   ]
  },
  {
   "cell_type": "code",
   "execution_count": 26,
   "metadata": {},
   "outputs": [
    {
     "data": {
      "image/png": "[encoded data removed]",
      "text/plain": [
       "<Figure size 1440x320 with 1 Axes>"
      ]
     },
     "metadata": {},
     "output_type": "display_data"
    }
   ],
   "source": [
    "hist_ploting(data.query('0 <= Power <= 50')['Power'], bins=25)\n",
    "plt.xticks(list(range(0,51,2)))\n",
    "plt.show()"
   ]
  },
  {
   "cell_type": "code",
   "execution_count": 27,
   "metadata": {},
   "outputs": [
    {
     "data": {
      "image/png": "[encoded data removed]",
      "text/plain": [
       "<Figure size 1440x320 with 1 Axes>"
      ]
     },
     "metadata": {},
     "output_type": "display_data"
    }
   ],
   "source": [
    "hist_ploting(data.query('0 < Power < 50')['Power'], bins=25)\n",
    "plt.xticks(list(range(0,51,2)))\n",
    "plt.show()"
   ]
  },
  {
   "cell_type": "code",
   "execution_count": 28,
   "metadata": {},
   "outputs": [],
   "source": [
    "data = data.mask(data['Power'] < 20)"
   ]
  },
  {
   "cell_type": "code",
   "execution_count": 29,
   "metadata": {},
   "outputs": [
    {
     "data": {
      "image/png": "[encoded data removed]",
      "text/plain": [
       "<Figure size 1440x240 with 1 Axes>"
      ]
     },
     "metadata": {},
     "output_type": "display_data"
    }
   ],
   "source": [
    "box_ploting(data['Power'])\n",
    "plt.xlim(0,501)\n",
    "plt.xticks(list(range(0,501,25)))\n",
    "plt.show()"
   ]
  },
  {
   "cell_type": "code",
   "execution_count": 30,
   "metadata": {},
   "outputs": [],
   "source": [
    "data = data.mask(data['Power'] > 400)"
   ]
  },
  {
   "cell_type": "code",
   "execution_count": 31,
   "metadata": {},
   "outputs": [
    {
     "data": {
      "image/png": "[encoded data removed]",
      "text/plain": [
       "<Figure size 1440x320 with 1 Axes>"
      ]
     },
     "metadata": {},
     "output_type": "display_data"
    }
   ],
   "source": [
    "hist_ploting(data['Power'], trim=False, bins=50)\n",
    "plt.xlim(0,501)\n",
    "plt.xticks(list(range(0,501,25)))\n",
    "plt.show()"
   ]
  },
  {
   "cell_type": "markdown",
   "metadata": {},
   "source": [
    "#### Удаление выбросов"
   ]
  },
  {
   "cell_type": "code",
   "execution_count": 32,
   "metadata": {},
   "outputs": [],
   "source": [
    "for column in ['Price', 'RegistrationYear', 'Power']:\n",
    "    drop_outliers(data[column], n_of_iqr=2)"
   ]
  },
  {
   "cell_type": "markdown",
   "metadata": {},
   "source": [
    "#### Распределение числовых признаков после"
   ]
  },
  {
   "cell_type": "code",
   "execution_count": 33,
   "metadata": {
    "scrolled": true
   },
   "outputs": [
    {
     "data": {
      "image/png": "[encoded data removed]",
      "text/plain": [
       "<Figure size 1440x240 with 4 Axes>"
      ]
     },
     "metadata": {},
     "output_type": "display_data"
    }
   ],
   "source": [
    "boxplot_preview(numeric_columns, trim=False)"
   ]
  },
  {
   "cell_type": "markdown",
   "metadata": {},
   "source": [
    "### Работа над пропусками"
   ]
  },
  {
   "cell_type": "markdown",
   "metadata": {},
   "source": [
    "#### NotRepaired"
   ]
  },
  {
   "cell_type": "code",
   "execution_count": 34,
   "metadata": {},
   "outputs": [
    {
     "data": {
      "text/plain": [
       "no     229303\n",
       "yes     29440\n",
       "Name: NotRepaired, dtype: int64"
      ]
     },
     "execution_count": 34,
     "metadata": {},
     "output_type": "execute_result"
    }
   ],
   "source": [
    "data['NotRepaired'].value_counts()"
   ]
  },
  {
   "cell_type": "markdown",
   "metadata": {},
   "source": [
    "Заполним столбец `NotRepaired`, исходя из того, что, на мой взгляд, пропущенное значение эквивалентно тому, что машина не была в ремонте"
   ]
  },
  {
   "cell_type": "code",
   "execution_count": 35,
   "metadata": {},
   "outputs": [],
   "source": [
    "data['NotRepaired'] = data['NotRepaired'].fillna('no')"
   ]
  },
  {
   "cell_type": "markdown",
   "metadata": {},
   "source": [
    "#### VehicleType"
   ]
  },
  {
   "cell_type": "code",
   "execution_count": 36,
   "metadata": {},
   "outputs": [
    {
     "data": {
      "text/plain": [
       "sedan          82750\n",
       "small          69769\n",
       "wagon          59058\n",
       "bus            26160\n",
       "convertible    18718\n",
       "coupe          14522\n",
       "suv            10888\n",
       "other           2408\n",
       "Name: VehicleType, dtype: int64"
      ]
     },
     "execution_count": 36,
     "metadata": {},
     "output_type": "execute_result"
    }
   ],
   "source": [
    "data['VehicleType'].value_counts()"
   ]
  },
  {
   "cell_type": "markdown",
   "metadata": {},
   "source": [
    "В столбце `VehicleType` пропущенные значения, заполним существующей категорией `other`"
   ]
  },
  {
   "cell_type": "code",
   "execution_count": 37,
   "metadata": {},
   "outputs": [],
   "source": [
    "data['VehicleType'] = data['VehicleType'].fillna('other')"
   ]
  },
  {
   "cell_type": "markdown",
   "metadata": {},
   "source": [
    "#### Model"
   ]
  },
  {
   "cell_type": "code",
   "execution_count": 38,
   "metadata": {},
   "outputs": [
    {
     "data": {
      "text/plain": [
       "golf                  25925\n",
       "other                 20596\n",
       "3er                   17714\n",
       "polo                  11109\n",
       "corsa                 10507\n",
       "                      ...  \n",
       "i3                        5\n",
       "samara                    5\n",
       "rangerover                3\n",
       "serie_3                   3\n",
       "range_rover_evoque        2\n",
       "Name: Model, Length: 249, dtype: int64"
      ]
     },
     "execution_count": 38,
     "metadata": {},
     "output_type": "execute_result"
    }
   ],
   "source": [
    "data['Model'].value_counts()"
   ]
  },
  {
   "cell_type": "markdown",
   "metadata": {},
   "source": [
    "В столбце `Model` пропущенные значения, также заполним существующей категорией `other`"
   ]
  },
  {
   "cell_type": "code",
   "execution_count": 39,
   "metadata": {},
   "outputs": [],
   "source": [
    "data['Model'] = data['Model'].fillna('other')"
   ]
  },
  {
   "cell_type": "markdown",
   "metadata": {},
   "source": [
    "#### FuelType"
   ]
  },
  {
   "cell_type": "code",
   "execution_count": 40,
   "metadata": {},
   "outputs": [
    {
     "data": {
      "text/plain": [
       "petrol      190989\n",
       "gasoline     89261\n",
       "lpg           4774\n",
       "cng            497\n",
       "hybrid         204\n",
       "other           86\n",
       "electric        42\n",
       "Name: FuelType, dtype: int64"
      ]
     },
     "execution_count": 40,
     "metadata": {},
     "output_type": "execute_result"
    }
   ],
   "source": [
    "data['FuelType'].value_counts()"
   ]
  },
  {
   "cell_type": "markdown",
   "metadata": {},
   "source": [
    "В столбце `FuelType` пропущенные значения, также заполним существующей категорией `other`"
   ]
  },
  {
   "cell_type": "code",
   "execution_count": 41,
   "metadata": {},
   "outputs": [],
   "source": [
    "data['FuelType'] = data['FuelType'].fillna('other')"
   ]
  },
  {
   "cell_type": "markdown",
   "metadata": {},
   "source": [
    "#### Удаление пропусков"
   ]
  },
  {
   "cell_type": "code",
   "execution_count": 42,
   "metadata": {},
   "outputs": [],
   "source": [
    "data = data.dropna().reset_index(drop=True)"
   ]
  },
  {
   "cell_type": "code",
   "execution_count": 43,
   "metadata": {
    "scrolled": true
   },
   "outputs": [
    {
     "data": {
      "text/html": [
       "<b> >>> <code>Общая информация о таблице</code>:</b>"
      ],
      "text/plain": [
       "<IPython.core.display.HTML object>"
      ]
     },
     "metadata": {},
     "output_type": "display_data"
    },
    {
     "name": "stdout",
     "output_type": "stream",
     "text": [
      "<class 'pandas.core.frame.DataFrame'>\n",
      "RangeIndex: 290378 entries, 0 to 290377\n",
      "Columns: 10 entries, Price to NotRepaired\n",
      "dtypes: float64(4), object(6)\n",
      "memory usage: 22.2+ MB\n"
     ]
    },
    {
     "data": {
      "text/plain": [
       "None"
      ]
     },
     "metadata": {},
     "output_type": "display_data"
    },
    {
     "data": {
      "text/plain": [
       "Price               float64\n",
       "VehicleType          object\n",
       "RegistrationYear    float64\n",
       "Gearbox              object\n",
       "Power               float64\n",
       "Model                object\n",
       "Kilometer           float64\n",
       "FuelType             object\n",
       "Brand                object\n",
       "NotRepaired          object\n",
       "dtype: object"
      ]
     },
     "metadata": {},
     "output_type": "display_data"
    },
    {
     "data": {
      "text/html": [
       "<b> >>> <code>Пропущенные значения</code>:</b>"
      ],
      "text/plain": [
       "<IPython.core.display.HTML object>"
      ]
     },
     "metadata": {},
     "output_type": "display_data"
    },
    {
     "data": {
      "text/plain": [
       "Price               0\n",
       "VehicleType         0\n",
       "RegistrationYear    0\n",
       "Gearbox             0\n",
       "Power               0\n",
       "Model               0\n",
       "Kilometer           0\n",
       "FuelType            0\n",
       "Brand               0\n",
       "NotRepaired         0\n",
       "dtype: int64"
      ]
     },
     "metadata": {},
     "output_type": "display_data"
    },
    {
     "data": {
      "text/html": [
       "<b> >>> <code>Размер таблицы</code>:</b>"
      ],
      "text/plain": [
       "<IPython.core.display.HTML object>"
      ]
     },
     "metadata": {},
     "output_type": "display_data"
    },
    {
     "data": {
      "text/plain": [
       "(290378, 10)"
      ]
     },
     "metadata": {},
     "output_type": "display_data"
    }
   ],
   "source": [
    "data_info_preview(data)"
   ]
  },
  {
   "cell_type": "markdown",
   "metadata": {},
   "source": [
    "### Анализ корреляции признаков"
   ]
  },
  {
   "cell_type": "code",
   "execution_count": 44,
   "metadata": {},
   "outputs": [
    {
     "data": {
      "image/png": "[encoded data removed]",
      "text/plain": [
       "<Figure size 800x320 with 2 Axes>"
      ]
     },
     "metadata": {},
     "output_type": "display_data"
    }
   ],
   "source": [
    "fig = plt.figure(figsize=(10,4))\n",
    "fig.suptitle('Коэффициенты корреляции числовых признаков'.upper(), position=(0.5,0.98), weight='demi')\n",
    "sns.heatmap(data[numeric_columns].corr(),cmap='vlag',linewidths=5, mask=np.triu(data[need_col].corr()), annot=True)\n",
    "sns.despine(top=True, right=True, left=True, bottom=True, trim=True)\n",
    "plt.tick_params(direction='in', length=0, pad=3)\n",
    "plt.show()"
   ]
  },
  {
   "cell_type": "markdown",
   "metadata": {},
   "source": [
    "### Кодирование признаков"
   ]
  },
  {
   "cell_type": "markdown",
   "metadata": {},
   "source": [
    "#### Приведение данных к нужным типам"
   ]
  },
  {
   "cell_type": "code",
   "execution_count": 45,
   "metadata": {},
   "outputs": [
    {
     "name": "stdout",
     "output_type": "stream",
     "text": [
      "<class 'pandas.core.frame.DataFrame'>\n",
      "RangeIndex: 290378 entries, 0 to 290377\n",
      "Data columns (total 10 columns):\n",
      " #   Column            Non-Null Count   Dtype   \n",
      "---  ------            --------------   -----   \n",
      " 0   Price             290378 non-null  uint32  \n",
      " 1   VehicleType       290378 non-null  category\n",
      " 2   RegistrationYear  290378 non-null  uint32  \n",
      " 3   Gearbox           290378 non-null  category\n",
      " 4   Power             290378 non-null  uint32  \n",
      " 5   Model             290378 non-null  category\n",
      " 6   Kilometer         290378 non-null  uint32  \n",
      " 7   FuelType          290378 non-null  category\n",
      " 8   Brand             290378 non-null  category\n",
      " 9   NotRepaired       290378 non-null  category\n",
      "dtypes: category(6), uint32(4)\n",
      "memory usage: 6.4 MB\n"
     ]
    }
   ],
   "source": [
    "data[category_columns] = data[category_columns].astype('category')\n",
    "data[numeric_columns] = data[numeric_columns].astype('uint32')\n",
    "data.info()"
   ]
  },
  {
   "cell_type": "markdown",
   "metadata": {},
   "source": [
    "#### OHE кодирование"
   ]
  },
  {
   "cell_type": "code",
   "execution_count": 46,
   "metadata": {},
   "outputs": [],
   "source": [
    "data_ohe = pd.get_dummies(data,columns=category_columns,drop_first=True)\n",
    "data_ohe[numeric_columns] = data_ohe[numeric_columns].astype('uint32')"
   ]
  },
  {
   "cell_type": "code",
   "execution_count": 47,
   "metadata": {},
   "outputs": [
    {
     "name": "stdout",
     "output_type": "stream",
     "text": [
      "<class 'pandas.core.frame.DataFrame'>\n",
      "RangeIndex: 290378 entries, 0 to 290377\n",
      "Columns: 305 entries, Price to Brand_volvo\n",
      "dtypes: uint32(4), uint8(301)\n",
      "memory usage: 87.8 MB\n"
     ]
    }
   ],
   "source": [
    "data_ohe.info()"
   ]
  },
  {
   "cell_type": "markdown",
   "metadata": {},
   "source": [
    "#### OE кодирование"
   ]
  },
  {
   "cell_type": "code",
   "execution_count": 48,
   "metadata": {},
   "outputs": [],
   "source": [
    "encoder = OrdinalEncoder()\n",
    "data_ordinal = pd.DataFrame(encoder.fit_transform(data[category_columns]), columns=category_columns)\n",
    "data_ordinal[numeric_columns] = data[numeric_columns]"
   ]
  },
  {
   "cell_type": "code",
   "execution_count": 49,
   "metadata": {},
   "outputs": [
    {
     "name": "stdout",
     "output_type": "stream",
     "text": [
      "<class 'pandas.core.frame.DataFrame'>\n",
      "RangeIndex: 290378 entries, 0 to 290377\n",
      "Data columns (total 10 columns):\n",
      " #   Column            Non-Null Count   Dtype   \n",
      "---  ------            --------------   -----   \n",
      " 0   VehicleType       290378 non-null  category\n",
      " 1   Gearbox           290378 non-null  category\n",
      " 2   Model             290378 non-null  category\n",
      " 3   NotRepaired       290378 non-null  category\n",
      " 4   FuelType          290378 non-null  category\n",
      " 5   Brand             290378 non-null  category\n",
      " 6   Price             290378 non-null  uint32  \n",
      " 7   RegistrationYear  290378 non-null  uint32  \n",
      " 8   Power             290378 non-null  uint32  \n",
      " 9   Kilometer         290378 non-null  uint32  \n",
      "dtypes: category(6), uint32(4)\n",
      "memory usage: 6.4 MB\n"
     ]
    }
   ],
   "source": [
    "data_ordinal = data_ordinal.astype('uint32')\n",
    "data_ordinal[category_columns] = data_ordinal[category_columns].astype('category')\n",
    "data_ordinal.info()"
   ]
  },
  {
   "cell_type": "markdown",
   "metadata": {},
   "source": [
    "### Разбитие данных на обучающую и валидационную выборки"
   ]
  },
  {
   "cell_type": "code",
   "execution_count": 50,
   "metadata": {},
   "outputs": [],
   "source": [
    "def train_test_split_func(data):\n",
    "    features = data.drop(columns='Price')\n",
    "    target = data['Price']\n",
    "    features_train, features_valid,\\\n",
    "    target_train, target_valid = train_test_split(features, target, test_size=0.25, random_state=12345)\n",
    "    return features_train, features_valid, target_train, target_valid"
   ]
  },
  {
   "cell_type": "code",
   "execution_count": 51,
   "metadata": {},
   "outputs": [],
   "source": [
    "features_train, features_valid, target_train, target_valid = train_test_split_func(data)"
   ]
  },
  {
   "cell_type": "code",
   "execution_count": 52,
   "metadata": {},
   "outputs": [],
   "source": [
    "features_train_ord, features_valid_ord, target_train_ord, target_valid_ord = train_test_split_func(data_ordinal)"
   ]
  },
  {
   "cell_type": "code",
   "execution_count": 53,
   "metadata": {},
   "outputs": [],
   "source": [
    "features_train_ohe, features_valid_ohe, target_train_ohe, target_valid_ohe = train_test_split_func(data_ohe)"
   ]
  },
  {
   "cell_type": "markdown",
   "metadata": {},
   "source": [
    "### Масштабирование данных для линейной регрессии"
   ]
  },
  {
   "cell_type": "code",
   "execution_count": 54,
   "metadata": {},
   "outputs": [],
   "source": [
    "scaler = StandardScaler()\n",
    "scaler.fit(features_train_ohe[train_numeric_columns])\n",
    "features_train_ohe[train_numeric_columns] = scaler.transform(features_train_ohe[train_numeric_columns])\n",
    "features_valid_ohe[train_numeric_columns] = scaler.transform(features_valid_ohe[train_numeric_columns])"
   ]
  },
  {
   "cell_type": "markdown",
   "metadata": {},
   "source": [
    "## Обучение моделей"
   ]
  },
  {
   "cell_type": "code",
   "execution_count": 55,
   "metadata": {},
   "outputs": [],
   "source": [
    "best_models = dict()\n",
    "cv_folds = 10"
   ]
  },
  {
   "cell_type": "markdown",
   "metadata": {},
   "source": [
    "### Fully Connected Feed-Forward Neural Network (NN)"
   ]
  },
  {
   "cell_type": "code",
   "execution_count": 56,
   "metadata": {},
   "outputs": [
    {
     "name": "stdout",
     "output_type": "stream",
     "text": [
      "Epoch 1/60\n",
      "6126/6126 - 12s - loss: 5659886.0000 - root_mean_squared_error: 2379.0515 - val_loss: 3469607.5000 - val_root_mean_squared_error: 1862.6882\n",
      "Epoch 2/60\n",
      "6126/6126 - 10s - loss: 3134405.2500 - root_mean_squared_error: 1770.4252 - val_loss: 3005634.5000 - val_root_mean_squared_error: 1733.6766\n",
      "Epoch 3/60\n",
      "6126/6126 - 10s - loss: 2823943.0000 - root_mean_squared_error: 1680.4591 - val_loss: 2816918.7500 - val_root_mean_squared_error: 1678.3679\n",
      "Epoch 4/60\n",
      "6126/6126 - 10s - loss: 2656987.5000 - root_mean_squared_error: 1630.0269 - val_loss: 2650197.7500 - val_root_mean_squared_error: 1627.9427\n",
      "Epoch 5/60\n",
      "6126/6126 - 10s - loss: 2556177.7500 - root_mean_squared_error: 1598.8051 - val_loss: 2566694.0000 - val_root_mean_squared_error: 1602.0905\n",
      "Epoch 6/60\n",
      "6126/6126 - 10s - loss: 2489087.0000 - root_mean_squared_error: 1577.6841 - val_loss: 2508971.7500 - val_root_mean_squared_error: 1583.9734\n",
      "Epoch 7/60\n",
      "6126/6126 - 10s - loss: 2433754.0000 - root_mean_squared_error: 1560.0493 - val_loss: 2471640.5000 - val_root_mean_squared_error: 1572.1451\n",
      "Epoch 8/60\n",
      "6126/6126 - 10s - loss: 2386953.5000 - root_mean_squared_error: 1544.9768 - val_loss: 2421509.5000 - val_root_mean_squared_error: 1556.1200\n",
      "Epoch 9/60\n",
      "6126/6126 - 10s - loss: 2347960.7500 - root_mean_squared_error: 1532.3057 - val_loss: 2392321.0000 - val_root_mean_squared_error: 1546.7130\n",
      "Epoch 10/60\n",
      "6126/6126 - 10s - loss: 2313971.7500 - root_mean_squared_error: 1521.1744 - val_loss: 2389322.2500 - val_root_mean_squared_error: 1545.7433\n",
      "Epoch 11/60\n",
      "6126/6126 - 10s - loss: 2284126.0000 - root_mean_squared_error: 1511.3325 - val_loss: 2330645.7500 - val_root_mean_squared_error: 1526.6453\n",
      "Epoch 12/60\n",
      "6126/6126 - 10s - loss: 2257197.5000 - root_mean_squared_error: 1502.3972 - val_loss: 2358058.5000 - val_root_mean_squared_error: 1535.5972\n",
      "Epoch 13/60\n",
      "6126/6126 - 11s - loss: 2234905.5000 - root_mean_squared_error: 1494.9601 - val_loss: 2299015.0000 - val_root_mean_squared_error: 1516.2504\n",
      "Epoch 14/60\n",
      "6126/6126 - 10s - loss: 2214936.5000 - root_mean_squared_error: 1488.2662 - val_loss: 2304626.2500 - val_root_mean_squared_error: 1518.0996\n",
      "Epoch 15/60\n",
      "6126/6126 - 10s - loss: 2195947.5000 - root_mean_squared_error: 1481.8729 - val_loss: 2289519.2500 - val_root_mean_squared_error: 1513.1157\n",
      "Epoch 16/60\n",
      "6126/6126 - 10s - loss: 2179505.7500 - root_mean_squared_error: 1476.3149 - val_loss: 2262311.2500 - val_root_mean_squared_error: 1504.0981\n",
      "Epoch 17/60\n",
      "6126/6126 - 10s - loss: 2164953.2500 - root_mean_squared_error: 1471.3781 - val_loss: 2252068.2500 - val_root_mean_squared_error: 1500.6892\n",
      "Epoch 18/60\n",
      "6126/6126 - 11s - loss: 2148391.5000 - root_mean_squared_error: 1465.7393 - val_loss: 2266370.0000 - val_root_mean_squared_error: 1505.4468\n",
      "Epoch 19/60\n",
      "6126/6126 - 10s - loss: 2134465.2500 - root_mean_squared_error: 1460.9810 - val_loss: 2233954.0000 - val_root_mean_squared_error: 1494.6417\n",
      "Epoch 20/60\n",
      "6126/6126 - 10s - loss: 2120865.7500 - root_mean_squared_error: 1456.3192 - val_loss: 2239921.5000 - val_root_mean_squared_error: 1496.6367\n",
      "Epoch 21/60\n",
      "6126/6126 - 10s - loss: 2108909.2500 - root_mean_squared_error: 1452.2084 - val_loss: 2218819.2500 - val_root_mean_squared_error: 1489.5702\n",
      "Epoch 22/60\n",
      "6126/6126 - 10s - loss: 2095849.3750 - root_mean_squared_error: 1447.7048 - val_loss: 2224421.5000 - val_root_mean_squared_error: 1491.4495\n",
      "Epoch 23/60\n",
      "6126/6126 - 10s - loss: 2084981.2500 - root_mean_squared_error: 1443.9464 - val_loss: 2214810.5000 - val_root_mean_squared_error: 1488.2240\n",
      "Epoch 24/60\n",
      "6126/6126 - 10s - loss: 2074262.6250 - root_mean_squared_error: 1440.2301 - val_loss: 2203797.2500 - val_root_mean_squared_error: 1484.5192\n",
      "Epoch 25/60\n",
      "6126/6126 - 11s - loss: 2065096.5000 - root_mean_squared_error: 1437.0443 - val_loss: 2206716.2500 - val_root_mean_squared_error: 1485.5021\n",
      "Epoch 26/60\n",
      "6126/6126 - 12s - loss: 2055107.8750 - root_mean_squared_error: 1433.5647 - val_loss: 2194559.0000 - val_root_mean_squared_error: 1481.4044\n",
      "Epoch 27/60\n",
      "6126/6126 - 11s - loss: 2046519.7500 - root_mean_squared_error: 1430.5663 - val_loss: 2183021.2500 - val_root_mean_squared_error: 1477.5051\n",
      "Epoch 28/60\n",
      "6126/6126 - 11s - loss: 2037813.3750 - root_mean_squared_error: 1427.5200 - val_loss: 2205773.7500 - val_root_mean_squared_error: 1485.1847\n",
      "Epoch 29/60\n",
      "6126/6126 - 12s - loss: 2028594.5000 - root_mean_squared_error: 1424.2874 - val_loss: 2184787.7500 - val_root_mean_squared_error: 1478.1028\n",
      "Epoch 30/60\n",
      "6126/6126 - 12s - loss: 2019658.1250 - root_mean_squared_error: 1421.1467 - val_loss: 2178768.5000 - val_root_mean_squared_error: 1476.0652\n",
      "Epoch 31/60\n",
      "6126/6126 - 12s - loss: 2012516.0000 - root_mean_squared_error: 1418.6317 - val_loss: 2172004.2500 - val_root_mean_squared_error: 1473.7721\n",
      "Epoch 32/60\n",
      "6126/6126 - 11s - loss: 2004261.1250 - root_mean_squared_error: 1415.7192 - val_loss: 2183610.2500 - val_root_mean_squared_error: 1477.7043\n",
      "Epoch 33/60\n",
      "6126/6126 - 11s - loss: 1996116.0000 - root_mean_squared_error: 1412.8397 - val_loss: 2170499.2500 - val_root_mean_squared_error: 1473.2615\n",
      "Epoch 34/60\n",
      "6126/6126 - 11s - loss: 1990032.6250 - root_mean_squared_error: 1410.6852 - val_loss: 2167022.7500 - val_root_mean_squared_error: 1472.0811\n",
      "Epoch 35/60\n",
      "6126/6126 - 11s - loss: 1984036.5000 - root_mean_squared_error: 1408.5583 - val_loss: 2171066.5000 - val_root_mean_squared_error: 1473.4540\n",
      "Epoch 36/60\n",
      "6126/6126 - 11s - loss: 1975942.7500 - root_mean_squared_error: 1405.6823 - val_loss: 2162129.5000 - val_root_mean_squared_error: 1470.4181\n",
      "Epoch 37/60\n",
      "6126/6126 - 11s - loss: 1970305.3750 - root_mean_squared_error: 1403.6757 - val_loss: 2171616.0000 - val_root_mean_squared_error: 1473.6404\n",
      "Epoch 38/60\n",
      "6126/6126 - 12s - loss: 1963651.8750 - root_mean_squared_error: 1401.3036 - val_loss: 2164607.7500 - val_root_mean_squared_error: 1471.2606\n",
      "Epoch 39/60\n",
      "6126/6126 - 11s - loss: 1957083.2500 - root_mean_squared_error: 1398.9579 - val_loss: 2170274.5000 - val_root_mean_squared_error: 1473.1852\n",
      "Epoch 40/60\n",
      "6126/6126 - 11s - loss: 1953373.0000 - root_mean_squared_error: 1397.6312 - val_loss: 2181169.0000 - val_root_mean_squared_error: 1476.8782\n",
      "Epoch 41/60\n",
      "6126/6126 - 11s - loss: 1945829.6250 - root_mean_squared_error: 1394.9299 - val_loss: 2188630.2500 - val_root_mean_squared_error: 1479.4020\n",
      "Epoch 42/60\n",
      "6126/6126 - 11s - loss: 1939311.2500 - root_mean_squared_error: 1392.5916 - val_loss: 2149935.0000 - val_root_mean_squared_error: 1466.2656\n",
      "Epoch 43/60\n",
      "6126/6126 - 11s - loss: 1933181.6250 - root_mean_squared_error: 1390.3890 - val_loss: 2144949.2500 - val_root_mean_squared_error: 1464.5646\n",
      "Epoch 44/60\n",
      "6126/6126 - 11s - loss: 1928228.0000 - root_mean_squared_error: 1388.6064 - val_loss: 2151479.7500 - val_root_mean_squared_error: 1466.7924\n",
      "Epoch 45/60\n",
      "6126/6126 - 11s - loss: 1923327.1250 - root_mean_squared_error: 1386.8407 - val_loss: 2141831.0000 - val_root_mean_squared_error: 1463.4996\n",
      "Epoch 46/60\n",
      "6126/6126 - 11s - loss: 1918407.8750 - root_mean_squared_error: 1385.0660 - val_loss: 2134243.2500 - val_root_mean_squared_error: 1460.9049\n",
      "Epoch 47/60\n",
      "6126/6126 - 11s - loss: 1912354.6250 - root_mean_squared_error: 1382.8792 - val_loss: 2148388.2500 - val_root_mean_squared_error: 1465.7382\n",
      "Epoch 48/60\n",
      "6126/6126 - 11s - loss: 1907858.0000 - root_mean_squared_error: 1381.2523 - val_loss: 2147584.0000 - val_root_mean_squared_error: 1465.4637\n",
      "Epoch 49/60\n",
      "6126/6126 - 11s - loss: 1903847.1250 - root_mean_squared_error: 1379.7997 - val_loss: 2130708.2500 - val_root_mean_squared_error: 1459.6946\n",
      "Epoch 50/60\n",
      "6126/6126 - 11s - loss: 1895367.6250 - root_mean_squared_error: 1376.7235 - val_loss: 2127871.0000 - val_root_mean_squared_error: 1458.7224\n",
      "Epoch 51/60\n",
      "6126/6126 - 11s - loss: 1895447.5000 - root_mean_squared_error: 1376.7526 - val_loss: 2210563.2500 - val_root_mean_squared_error: 1486.7963\n",
      "Epoch 52/60\n",
      "6126/6126 - 11s - loss: 1887868.5000 - root_mean_squared_error: 1373.9973 - val_loss: 2127825.0000 - val_root_mean_squared_error: 1458.7067\n",
      "Epoch 53/60\n",
      "6126/6126 - 11s - loss: 1885017.7500 - root_mean_squared_error: 1372.9595 - val_loss: 2130163.5000 - val_root_mean_squared_error: 1459.5079\n",
      "Epoch 54/60\n",
      "6126/6126 - 11s - loss: 1879562.8750 - root_mean_squared_error: 1370.9716 - val_loss: 2190101.5000 - val_root_mean_squared_error: 1479.8992\n"
     ]
    },
    {
     "name": "stdout",
     "output_type": "stream",
     "text": [
      "Epoch 55/60\n",
      "6126/6126 - 11s - loss: 1876229.7500 - root_mean_squared_error: 1369.7554 - val_loss: 2159525.7500 - val_root_mean_squared_error: 1469.5325\n",
      "Epoch 56/60\n",
      "6126/6126 - 11s - loss: 1870568.3750 - root_mean_squared_error: 1367.6873 - val_loss: 2133333.0000 - val_root_mean_squared_error: 1460.5934\n",
      "Epoch 57/60\n",
      "6126/6126 - 11s - loss: 1867372.6250 - root_mean_squared_error: 1366.5184 - val_loss: 2135260.0000 - val_root_mean_squared_error: 1461.2529\n",
      "Epoch 58/60\n",
      "6126/6126 - 11s - loss: 1862570.5000 - root_mean_squared_error: 1364.7603 - val_loss: 2115449.7500 - val_root_mean_squared_error: 1454.4586\n",
      "Epoch 59/60\n",
      "6126/6126 - 11s - loss: 1860409.7500 - root_mean_squared_error: 1363.9684 - val_loss: 2173476.2500 - val_root_mean_squared_error: 1474.2715\n",
      "Epoch 60/60\n",
      "6126/6126 - 11s - loss: 1855470.3750 - root_mean_squared_error: 1362.1565 - val_loss: 2111625.5000 - val_root_mean_squared_error: 1453.1433\n"
     ]
    },
    {
     "data": {
      "text/html": [
       "<b>Время обучения = </b> <code>645.566</code> c"
      ],
      "text/plain": [
       "<IPython.core.display.HTML object>"
      ]
     },
     "metadata": {},
     "output_type": "display_data"
    },
    {
     "data": {
      "text/html": [
       "<b>RMSE на последней эпохе: </b> <code>1,453.143</code>"
      ],
      "text/plain": [
       "<IPython.core.display.HTML object>"
      ]
     },
     "metadata": {},
     "output_type": "display_data"
    }
   ],
   "source": [
    "start_time = time.time()\n",
    "\n",
    "model = Sequential()\n",
    "#model.add(tf.keras.layers.Dense(64, activation='relu'))\n",
    "#model.add(Flatten())\n",
    "\n",
    "model.add(Dense(units=512, activation='relu'))\n",
    "model.add(Dense(units=16, activation='swish'))\n",
    "model.add(Dense(units=1, activation='gelu'))\n",
    "model.compile(\n",
    "        optimizer=Nadam(learning_rate=0.001125),\n",
    "        loss='mse',\n",
    "        metrics=[RootMeanSquaredError()]\n",
    ")\n",
    "model.fit(features_train_ohe,\n",
    "          target_train_ohe,\n",
    "          validation_split= 1 / cv_folds,\n",
    "#          validation_data=(features_valid_ohe, target_valid_ohe),\n",
    "          epochs=60,\n",
    "          steps_per_epoch=None,\n",
    "          validation_steps=None,\n",
    "          verbose=2,\n",
    "          shuffle=True\n",
    "         )\n",
    "\n",
    "fit_time = time.time() - start_time\n",
    "best_models['NN'] = [model,]\n",
    "best_models['NN'].append(fit_time)\n",
    "best_models['NN'].append(model.metrics[1].result().numpy())\n",
    "\n",
    "display(HTML(f'<b>Время обучения = </b> <code>{fit_time:,.3f}</code> c'))\n",
    "display(HTML(f'<b>RMSE на последней эпохе: </b> <code>{model.metrics[1].result().numpy():,.3f}</code>'))"
   ]
  },
  {
   "cell_type": "markdown",
   "metadata": {},
   "source": [
    "### LinearRegression (LR)"
   ]
  },
  {
   "cell_type": "code",
   "execution_count": 57,
   "metadata": {},
   "outputs": [
    {
     "data": {
      "text/html": [
       "<b>Лучшее RMSE = </b> <code>2,266.574</code>"
      ],
      "text/plain": [
       "<IPython.core.display.HTML object>"
      ]
     },
     "metadata": {},
     "output_type": "display_data"
    },
    {
     "data": {
      "text/html": [
       "<b>Время обучения = </b> <code>17.915</code> c"
      ],
      "text/plain": [
       "<IPython.core.display.HTML object>"
      ]
     },
     "metadata": {},
     "output_type": "display_data"
    }
   ],
   "source": [
    "start_time = time.time()\n",
    "#\n",
    "model = LinearRegression()\n",
    "n_scores = cross_val_score(model, features_train_ohe, target_train_ohe,\n",
    "                           scoring='neg_root_mean_squared_error', cv=cv_folds, n_jobs=-1, error_score='raise')\n",
    "score = np.mean(np.abs(n_scores))\n",
    "#\n",
    "best_models['LR'] = [model,]\n",
    "fit_time = time.time() - start_time\n",
    "best_models['LR'][0] = best_models['LR'][0].fit(features_train_ohe, target_train_ohe)\n",
    "best_models['LR'].append(fit_time)\n",
    "best_models['LR'].append(score)\n",
    "#\n",
    "display(HTML(f'<b>Лучшее RMSE = </b> <code>{score:,.3f}</code>'))\n",
    "display(HTML(f'<b>Время обучения = </b> <code>{fit_time:,.3f}</code> c'))"
   ]
  },
  {
   "cell_type": "markdown",
   "metadata": {},
   "source": [
    "### GradientBoostingRegressor (GBR)"
   ]
  },
  {
   "cell_type": "code",
   "execution_count": 58,
   "metadata": {},
   "outputs": [
    {
     "data": {
      "text/html": [
       "<b>n_estimators = </b> <code>245</code>"
      ],
      "text/plain": [
       "<IPython.core.display.HTML object>"
      ]
     },
     "metadata": {},
     "output_type": "display_data"
    },
    {
     "data": {
      "text/html": [
       "<b>Лучшее RMSE = </b> <code>1,547.989</code>"
      ],
      "text/plain": [
       "<IPython.core.display.HTML object>"
      ]
     },
     "metadata": {},
     "output_type": "display_data"
    },
    {
     "data": {
      "text/html": [
       "<b>Время обучения = </b> <code>473.022</code> c"
      ],
      "text/plain": [
       "<IPython.core.display.HTML object>"
      ]
     },
     "metadata": {},
     "output_type": "display_data"
    }
   ],
   "source": [
    "best_score = 100000\n",
    "estimators = 0\n",
    "start_time = time.time()\n",
    "#\n",
    "for i in range(235, 247, 2):\n",
    "    model = GradientBoostingRegressor(n_estimators=i, learning_rate=0.7, random_state=12345)\n",
    "#\n",
    "    n_scores = cross_val_score(model, features_train_ord, target_train_ord,\n",
    "                               scoring='neg_root_mean_squared_error',cv=cv_folds, n_jobs=-1, error_score='raise')\n",
    "#\n",
    "    score = np.mean(np.abs(n_scores))\n",
    "#\n",
    "    if score < best_score:\n",
    "        best_score = score\n",
    "        estimators = i\n",
    "        best_models['GBR'] = [model,]\n",
    "#\n",
    "fit_time = time.time() - start_time\n",
    "best_models['GBR'][0] = best_models['GBR'][0].fit(features_train_ord, target_train_ord)\n",
    "best_models['GBR'].append(fit_time)\n",
    "best_models['GBR'].append(best_score)\n",
    "#\n",
    "display(HTML(f'<b>n_estimators = </b> <code>{estimators}</code>'))\n",
    "display(HTML(f'<b>Лучшее RMSE = </b> <code>{best_score:,.3f}</code>'))\n",
    "display(HTML(f'<b>Время обучения = </b> <code>{fit_time:,.3f}</code> c'))"
   ]
  },
  {
   "cell_type": "markdown",
   "metadata": {},
   "source": [
    "### RandomForestRegressor (RFR)"
   ]
  },
  {
   "cell_type": "code",
   "execution_count": 59,
   "metadata": {},
   "outputs": [
    {
     "data": {
      "text/html": [
       "<b>n_estimators = </b> <code>169</code>"
      ],
      "text/plain": [
       "<IPython.core.display.HTML object>"
      ]
     },
     "metadata": {},
     "output_type": "display_data"
    },
    {
     "data": {
      "text/html": [
       "<b>Лучшее RMSE = </b> <code>1,452.383</code>"
      ],
      "text/plain": [
       "<IPython.core.display.HTML object>"
      ]
     },
     "metadata": {},
     "output_type": "display_data"
    },
    {
     "data": {
      "text/html": [
       "<b>Время обучения = </b> <code>388.820</code> c"
      ],
      "text/plain": [
       "<IPython.core.display.HTML object>"
      ]
     },
     "metadata": {},
     "output_type": "display_data"
    }
   ],
   "source": [
    "best_score = 100000\n",
    "n_estimators = 0\n",
    "start_time = time.time()\n",
    "#\n",
    "for i in range(167, 170, 1):\n",
    "    model = RandomForestRegressor(n_estimators=i, min_samples_leaf=2, random_state=12345)\n",
    "#\n",
    "    n_scores = cross_val_score(model, features_train_ord, target_train_ord,\n",
    "                               scoring='neg_root_mean_squared_error',cv=cv_folds, n_jobs=-1, error_score='raise')\n",
    "#\n",
    "    score = np.mean(np.abs(n_scores))\n",
    "#\n",
    "    if score < best_score:\n",
    "        best_score = score\n",
    "        estimators = i\n",
    "        best_models['RFR'] = [model,]\n",
    "#\n",
    "fit_time = time.time() - start_time\n",
    "best_models['RFR'][0] = best_models['RFR'][0].fit(features_train_ord, target_train_ord)\n",
    "best_models['RFR'].append(fit_time)\n",
    "best_models['RFR'].append(best_score)\n",
    "#\n",
    "display(HTML(f'<b>n_estimators = </b> <code>{estimators}</code>'))\n",
    "display(HTML(f'<b>Лучшее RMSE = </b> <code>{best_score:,.3f}</code>'))\n",
    "display(HTML(f'<b>Время обучения = </b> <code>{fit_time:,.3f}</code> c'))"
   ]
  },
  {
   "cell_type": "markdown",
   "metadata": {},
   "source": [
    "### LightGBMRegressor (LGBMR)"
   ]
  },
  {
   "cell_type": "code",
   "execution_count": 60,
   "metadata": {},
   "outputs": [
    {
     "data": {
      "text/html": [
       "<b>n_estimators = </b> <code>190</code>"
      ],
      "text/plain": [
       "<IPython.core.display.HTML object>"
      ]
     },
     "metadata": {},
     "output_type": "display_data"
    },
    {
     "data": {
      "text/html": [
       "<b>Лучшее RMSE = </b> <code>1,478.993</code>"
      ],
      "text/plain": [
       "<IPython.core.display.HTML object>"
      ]
     },
     "metadata": {},
     "output_type": "display_data"
    },
    {
     "data": {
      "text/html": [
       "<b>Время обучения = </b> <code>21.583</code> c"
      ],
      "text/plain": [
       "<IPython.core.display.HTML object>"
      ]
     },
     "metadata": {},
     "output_type": "display_data"
    }
   ],
   "source": [
    "best_score = 100000\n",
    "estimators = 0\n",
    "start_time = time.time()\n",
    "scores = list()\n",
    "estimators_list = list()\n",
    "#\n",
    "for i in np.arange(185, 191, 1):\n",
    "    model = LGBMRegressor(n_estimators=i, learning_rate=0.7, random_state=12345)\n",
    "#\n",
    "    n_scores = cross_val_score(model, features_train_ord, target_train_ord,\n",
    "                               scoring='neg_root_mean_squared_error',cv=cv_folds, n_jobs=-1, error_score='raise')\n",
    "#\n",
    "    score = np.mean(np.abs(n_scores))\n",
    "#\n",
    "    scores.append(score)\n",
    "    estimators_list.append(i)\n",
    "#\n",
    "    if score < best_score:\n",
    "        best_score = score\n",
    "        estimators = i\n",
    "        best_models['LGBMR'] = [model,]\n",
    "#\n",
    "fit_time = time.time() - start_time\n",
    "best_models['LGBMR'][0] = best_models['LGBMR'][0].fit(features_train_ord, target_train_ord)\n",
    "best_models['LGBMR'].append(fit_time)\n",
    "best_models['LGBMR'].append(best_score)\n",
    "#\n",
    "display(HTML(f'<b>n_estimators = </b> <code>{estimators}</code>'))\n",
    "display(HTML(f'<b>Лучшее RMSE = </b> <code>{best_score:,.3f}</code>'))\n",
    "display(HTML(f'<b>Время обучения = </b> <code>{fit_time:,.3f}</code> c'))"
   ]
  },
  {
   "cell_type": "markdown",
   "metadata": {},
   "source": [
    "### CatBoostRegressor (CBR)"
   ]
  },
  {
   "cell_type": "code",
   "execution_count": 61,
   "metadata": {},
   "outputs": [
    {
     "data": {
      "text/html": [
       "<b>n_estimators = </b> <code>200</code>"
      ],
      "text/plain": [
       "<IPython.core.display.HTML object>"
      ]
     },
     "metadata": {},
     "output_type": "display_data"
    },
    {
     "data": {
      "text/html": [
       "<b>Лучшее RMSE = </b> <code>1,571.138</code>"
      ],
      "text/plain": [
       "<IPython.core.display.HTML object>"
      ]
     },
     "metadata": {},
     "output_type": "display_data"
    },
    {
     "data": {
      "text/html": [
       "<b>Время обучения = </b> <code>156.083</code> c"
      ],
      "text/plain": [
       "<IPython.core.display.HTML object>"
      ]
     },
     "metadata": {},
     "output_type": "display_data"
    }
   ],
   "source": [
    "best_score = 100000\n",
    "estimators = 0\n",
    "start_time = time.time()\n",
    "#\n",
    "for i in np.arange(195, 201, 1):\n",
    "    model = CatBoostRegressor(n_estimators=i, learning_rate=0.7, depth=3,\n",
    "                              cat_features=category_columns, verbose=False, random_state=12345)\n",
    "#\n",
    "    n_scores = cross_val_score(model, features_train_ord, target_train_ord,\n",
    "                               scoring='neg_root_mean_squared_error',cv=cv_folds, n_jobs=-1, error_score='raise')\n",
    "#\n",
    "    score = np.mean(np.abs(n_scores))\n",
    "#\n",
    "    if score < best_score:\n",
    "        best_score = score\n",
    "        estimators = i\n",
    "        best_models['CBR'] = [model,]\n",
    "#\n",
    "fit_time = time.time() - start_time\n",
    "best_models['CBR'][0] = best_models['CBR'][0].fit(features_train_ord, target_train_ord,\n",
    "                                                  cat_features=category_columns, verbose=False)\n",
    "best_models['CBR'].append(fit_time)\n",
    "best_models['CBR'].append(best_score)\n",
    "#\n",
    "display(HTML(f'<b>n_estimators = </b> <code>{estimators}</code>'))\n",
    "display(HTML(f'<b>Лучшее RMSE = </b> <code>{best_score:,.3f}</code>'))\n",
    "display(HTML(f'<b>Время обучения = </b> <code>{fit_time:,.3f}</code> c'))"
   ]
  },
  {
   "cell_type": "markdown",
   "metadata": {},
   "source": [
    "### DummyRegressor (DummyR)"
   ]
  },
  {
   "cell_type": "code",
   "execution_count": 62,
   "metadata": {
    "scrolled": true
   },
   "outputs": [
    {
     "data": {
      "text/html": [
       "<b>Лучшее RMSE = </b> <code>4,216.199</code>"
      ],
      "text/plain": [
       "<IPython.core.display.HTML object>"
      ]
     },
     "metadata": {},
     "output_type": "display_data"
    },
    {
     "data": {
      "text/html": [
       "<b>Время обучения = </b> <code>0.294</code> c"
      ],
      "text/plain": [
       "<IPython.core.display.HTML object>"
      ]
     },
     "metadata": {},
     "output_type": "display_data"
    }
   ],
   "source": [
    "start_time = time.time()\n",
    "#\n",
    "model = DummyRegressor(strategy=\"mean\")\n",
    "n_scores = cross_val_score(model, features_train_ord, target_train_ord,\n",
    "                           scoring='neg_root_mean_squared_error', cv=cv_folds, n_jobs=-1, error_score='raise')\n",
    "score = np.mean(np.abs(n_scores))\n",
    "#\n",
    "best_models['DummyR'] = [model,]\n",
    "fit_time = time.time() - start_time\n",
    "best_models['DummyR'][0] = best_models['DummyR'][0].fit(features_train_ord, target_train_ord)\n",
    "best_models['DummyR'].append(fit_time)\n",
    "best_models['DummyR'].append(score)\n",
    "#\n",
    "display(HTML(f'<b>Лучшее RMSE = </b> <code>{score:,.3f}</code>'))\n",
    "display(HTML(f'<b>Время обучения = </b> <code>{fit_time:,.3f}</code> c'))"
   ]
  },
  {
   "cell_type": "markdown",
   "metadata": {},
   "source": [
    "## Анализ моделей"
   ]
  },
  {
   "cell_type": "markdown",
   "metadata": {},
   "source": [
    "### Анализ скорости работы и качества моделей"
   ]
  },
  {
   "cell_type": "markdown",
   "metadata": {},
   "source": [
    "Проанализируем скорость работы и качество моделей на валидационной выборке"
   ]
  },
  {
   "cell_type": "code",
   "execution_count": 63,
   "metadata": {},
   "outputs": [],
   "source": [
    "X_y_of_models = dict()\n",
    "ordinal_keys = list(set(best_models.keys()) - {'LR', 'NN'})\n",
    "X_y_of_models['LR'] = [features_valid_ohe, target_valid_ohe]\n",
    "X_y_of_models['NN'] = [features_valid_ohe, target_valid_ohe]\n",
    "for model in ordinal_keys:\n",
    "    X_y_of_models[model] = [features_valid_ord, target_valid_ord]"
   ]
  },
  {
   "cell_type": "code",
   "execution_count": 64,
   "metadata": {},
   "outputs": [],
   "source": [
    "def predict_func(model, features=features_valid, target=target_valid, best_models=best_models):\n",
    "    start_time = time.time()\n",
    "    #\n",
    "    target_pred = best_models[model][0].predict(features)\n",
    "    score = mean_squared_error(target, target_pred, squared=False)\n",
    "    #\n",
    "    fit_time = time.time() - start_time\n",
    "    best_models[model].append(fit_time)\n",
    "    best_models[model].append(score)"
   ]
  },
  {
   "cell_type": "code",
   "execution_count": 65,
   "metadata": {},
   "outputs": [],
   "source": [
    "for model in best_models:\n",
    "    predict_func(model, X_y_of_models[model][0], X_y_of_models[model][1])"
   ]
  },
  {
   "cell_type": "markdown",
   "metadata": {},
   "source": [
    "### Показатели по моделям обучения"
   ]
  },
  {
   "cell_type": "code",
   "execution_count": 66,
   "metadata": {},
   "outputs": [
    {
     "data": {
      "text/html": [
       "<div>\n",
       "<style scoped>\n",
       "    .dataframe tbody tr th:only-of-type {\n",
       "        vertical-align: middle;\n",
       "    }\n",
       "\n",
       "    .dataframe tbody tr th {\n",
       "        vertical-align: top;\n",
       "    }\n",
       "\n",
       "    .dataframe thead th {\n",
       "        text-align: right;\n",
       "    }\n",
       "</style>\n",
       "<table border=\"1\" class=\"dataframe\">\n",
       "  <thead>\n",
       "    <tr style=\"text-align: right;\">\n",
       "      <th></th>\n",
       "      <th>time_spent_train</th>\n",
       "      <th>best_score_train</th>\n",
       "      <th>time_spent_predict</th>\n",
       "      <th>score_valid</th>\n",
       "    </tr>\n",
       "  </thead>\n",
       "  <tbody>\n",
       "    <tr>\n",
       "      <th>RFR</th>\n",
       "      <td>388.82</td>\n",
       "      <td>1,452.38</td>\n",
       "      <td>3.05</td>\n",
       "      <td>1,450.51</td>\n",
       "    </tr>\n",
       "    <tr>\n",
       "      <th>NN</th>\n",
       "      <td>645.57</td>\n",
       "      <td>1,453.14</td>\n",
       "      <td>1.39</td>\n",
       "      <td>1,461.18</td>\n",
       "    </tr>\n",
       "    <tr>\n",
       "      <th>LGBMR</th>\n",
       "      <td>21.58</td>\n",
       "      <td>1,478.99</td>\n",
       "      <td>0.11</td>\n",
       "      <td>1,478.85</td>\n",
       "    </tr>\n",
       "    <tr>\n",
       "      <th>GBR</th>\n",
       "      <td>473.02</td>\n",
       "      <td>1,547.99</td>\n",
       "      <td>0.21</td>\n",
       "      <td>1,544.04</td>\n",
       "    </tr>\n",
       "    <tr>\n",
       "      <th>CBR</th>\n",
       "      <td>156.08</td>\n",
       "      <td>1,571.14</td>\n",
       "      <td>0.07</td>\n",
       "      <td>1,577.84</td>\n",
       "    </tr>\n",
       "    <tr>\n",
       "      <th>LR</th>\n",
       "      <td>17.91</td>\n",
       "      <td>2,266.57</td>\n",
       "      <td>0.08</td>\n",
       "      <td>2,284.63</td>\n",
       "    </tr>\n",
       "    <tr>\n",
       "      <th>DummyR</th>\n",
       "      <td>0.29</td>\n",
       "      <td>4,216.20</td>\n",
       "      <td>0.00</td>\n",
       "      <td>4,206.32</td>\n",
       "    </tr>\n",
       "  </tbody>\n",
       "</table>\n",
       "</div>"
      ],
      "text/plain": [
       "       time_spent_train best_score_train time_spent_predict score_valid\n",
       "RFR              388.82         1,452.38               3.05    1,450.51\n",
       "NN               645.57         1,453.14               1.39    1,461.18\n",
       "LGBMR             21.58         1,478.99               0.11    1,478.85\n",
       "GBR              473.02         1,547.99               0.21    1,544.04\n",
       "CBR              156.08         1,571.14               0.07    1,577.84\n",
       "LR                17.91         2,266.57               0.08    2,284.63\n",
       "DummyR             0.29         4,216.20               0.00    4,206.32"
      ]
     },
     "execution_count": 66,
     "metadata": {},
     "output_type": "execute_result"
    }
   ],
   "source": [
    "df_model = pd.DataFrame(best_models).T.drop(columns=0)#.sort_values(by=2).reset_index()\n",
    "df_model.rename(columns={'index':'models', 1:'time_spent_train', 2:'best_score_train', 3:'time_spent_predict', 4:'score_valid'}, inplace=True)\n",
    "df_model.sort_values(by='score_valid')"
   ]
  },
  {
   "cell_type": "code",
   "execution_count": 67,
   "metadata": {},
   "outputs": [
    {
     "data": {
      "text/html": [
       "<div>\n",
       "<style scoped>\n",
       "    .dataframe tbody tr th:only-of-type {\n",
       "        vertical-align: middle;\n",
       "    }\n",
       "\n",
       "    .dataframe tbody tr th {\n",
       "        vertical-align: top;\n",
       "    }\n",
       "\n",
       "    .dataframe thead th {\n",
       "        text-align: right;\n",
       "    }\n",
       "</style>\n",
       "<table border=\"1\" class=\"dataframe\">\n",
       "  <thead>\n",
       "    <tr style=\"text-align: right;\">\n",
       "      <th></th>\n",
       "      <th>time_spent_train</th>\n",
       "      <th>best_score_train</th>\n",
       "      <th>time_spent_predict</th>\n",
       "      <th>score_valid</th>\n",
       "    </tr>\n",
       "  </thead>\n",
       "  <tbody>\n",
       "    <tr>\n",
       "      <th>DummyR</th>\n",
       "      <td>0.29</td>\n",
       "      <td>4,216.20</td>\n",
       "      <td>0.00</td>\n",
       "      <td>4,206.32</td>\n",
       "    </tr>\n",
       "    <tr>\n",
       "      <th>LR</th>\n",
       "      <td>17.91</td>\n",
       "      <td>2,266.57</td>\n",
       "      <td>0.08</td>\n",
       "      <td>2,284.63</td>\n",
       "    </tr>\n",
       "    <tr>\n",
       "      <th>LGBMR</th>\n",
       "      <td>21.58</td>\n",
       "      <td>1,478.99</td>\n",
       "      <td>0.11</td>\n",
       "      <td>1,478.85</td>\n",
       "    </tr>\n",
       "    <tr>\n",
       "      <th>CBR</th>\n",
       "      <td>156.08</td>\n",
       "      <td>1,571.14</td>\n",
       "      <td>0.07</td>\n",
       "      <td>1,577.84</td>\n",
       "    </tr>\n",
       "    <tr>\n",
       "      <th>RFR</th>\n",
       "      <td>388.82</td>\n",
       "      <td>1,452.38</td>\n",
       "      <td>3.05</td>\n",
       "      <td>1,450.51</td>\n",
       "    </tr>\n",
       "    <tr>\n",
       "      <th>GBR</th>\n",
       "      <td>473.02</td>\n",
       "      <td>1,547.99</td>\n",
       "      <td>0.21</td>\n",
       "      <td>1,544.04</td>\n",
       "    </tr>\n",
       "    <tr>\n",
       "      <th>NN</th>\n",
       "      <td>645.57</td>\n",
       "      <td>1,453.14</td>\n",
       "      <td>1.39</td>\n",
       "      <td>1,461.18</td>\n",
       "    </tr>\n",
       "  </tbody>\n",
       "</table>\n",
       "</div>"
      ],
      "text/plain": [
       "       time_spent_train best_score_train time_spent_predict score_valid\n",
       "DummyR             0.29         4,216.20               0.00    4,206.32\n",
       "LR                17.91         2,266.57               0.08    2,284.63\n",
       "LGBMR             21.58         1,478.99               0.11    1,478.85\n",
       "CBR              156.08         1,571.14               0.07    1,577.84\n",
       "RFR              388.82         1,452.38               3.05    1,450.51\n",
       "GBR              473.02         1,547.99               0.21    1,544.04\n",
       "NN               645.57         1,453.14               1.39    1,461.18"
      ]
     },
     "execution_count": 67,
     "metadata": {},
     "output_type": "execute_result"
    }
   ],
   "source": [
    "df_model.sort_values(by='time_spent_train')"
   ]
  },
  {
   "cell_type": "markdown",
   "metadata": {},
   "source": [
    "## Вывод"
   ]
  },
  {
   "cell_type": "markdown",
   "metadata": {},
   "source": [
    "С помощью кросс-валидации на 10 фолдах по метрике `RMSE` исследовалось качество следующих моделей:  `Fully Connected Feed-Forward Neural Network (NN)`, `LinearRegression (LR)`, `GradientBoostingRegressor (GBR)`, `RandomForestRegressor (RFR)`, `LightGBMRegressor (LGBMR)` и `CatBoostRegressor (CBR)`. В качестве бэйслайна использовалась \"глупая\" модель `DummyRegressor`.\n",
    "\n",
    "Моделями с наименьшим значением `RMSE` являются `Fully Connected Feed-Forward Neural Network (NN)`, `RandomForestRegressor (RFR)` и `LightGBMRegressor (LGBMR)`. При этом время обучения и предсказания у `LGBMR` значительно меньше остальных.\n",
    "\n",
    "Оптимальной моделью для данной задачи является `LightGBMRegressor (LGBMR)`."
   ]
  }
 ],
 "metadata": {
  "kernelspec": {
   "display_name": "Python 3 (ipykernel)",
   "language": "python",
   "name": "python3"
  },
  "language_info": {
   "codemirror_mode": {
    "name": "ipython",
    "version": 3
   },
   "file_extension": ".py",
   "mimetype": "text/x-python",
   "name": "python",
   "nbconvert_exporter": "python",
   "pygments_lexer": "ipython3",
   "version": "3.8.11"
  },
  "toc": {
   "base_numbering": 1,
   "nav_menu": {},
   "number_sections": false,
   "sideBar": true,
   "skip_h1_title": false,
   "title_cell": "Table of Contents",
   "title_sidebar": "Contents",
   "toc_cell": true,
   "toc_position": {
    "height": "calc(100% - 180px)",
    "left": "10px",
    "top": "150px",
    "width": "366.4px"
   },
   "toc_section_display": true,
   "toc_window_display": true
  }
 },
 "nbformat": 4,
 "nbformat_minor": 2
}
